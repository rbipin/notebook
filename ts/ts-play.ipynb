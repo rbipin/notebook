{
 "cells": [
  {
   "cell_type": "code",
   "execution_count": null,
   "metadata": {},
   "outputs": [
    {
     "ename": "",
     "evalue": "",
     "output_type": "error",
     "traceback": [
      "\u001b[1;31mFailed to start the Kernel. \n",
      "\u001b[1;31mView Jupyter <a href='command:jupyter.viewOutput'>log</a> for further details."
     ]
    }
   ],
   "source": [
    "console.log(\"test\")"
   ]
  },
  {
   "cell_type": "code",
   "execution_count": null,
   "metadata": {},
   "outputs": [
    {
     "ename": "",
     "evalue": "",
     "output_type": "error",
     "traceback": [
      "\u001b[1;31mFailed to start the Kernel. \n",
      "\u001b[1;31mView Jupyter <a href='command:jupyter.viewOutput'>log</a> for further details."
     ]
    }
   ],
   "source": [
    "const items: number[] | null = [1, 2, 3]\n",
    "const count = items?.findIndex(item => item === 1) > -1? 1: 0 ?? 0\n",
    "console.log(count);"
   ]
  },
  {
   "cell_type": "code",
   "execution_count": 3,
   "metadata": {
    "dotnet_interactive": {
     "language": "javascript"
    },
    "polyglot_notebook": {
     "kernelName": "javascript"
    }
   },
   "outputs": [
    {
     "name": "stdout",
     "output_type": "stream",
     "text": [
      "{ id: '1234', goals: [ 'cashback', 'renovation' ] }\n"
     ]
    }
   ],
   "source": [
    "enum Goal{\n",
    "  CashBack = \"cashback\",\n",
    "  HomeImprovement = \"renovation\"\n",
    "}\n",
    "interface data {\n",
    "  id: string;\n",
    "  goals: Goal[]\n",
    "}\n",
    "const content = {\n",
    "  id: \"1234\",\n",
    "  goals: [\"cashback\", \"renovation\"]\n",
    "}\n",
    "const contentString = JSON.stringify(content);\n",
    "const d: data = JSON.parse(contentString);\n",
    "\n",
    "console.log(d);"
   ]
  },
  {
   "cell_type": "code",
   "execution_count": 1,
   "metadata": {
    "dotnet_interactive": {
     "language": "javascript"
    },
    "polyglot_notebook": {
     "kernelName": "javascript"
    }
   },
   "outputs": [
    {
     "name": "stdout",
     "output_type": "stream",
     "text": [
      "[ 1, 2, 3, 4, 5 ]\n"
     ]
    }
   ],
   "source": [
    "var numbers = [4, 2, 5, 1, 3];\n",
    "numbers.sort(function(a, b) {\n",
    "  return a - b;\n",
    "});\n",
    "console.log(numbers);"
   ]
  },
  {
   "cell_type": "code",
   "execution_count": null,
   "metadata": {
    "dotnet_interactive": {
     "language": "csharp"
    }
   },
   "outputs": [],
   "source": [
    "interface IPerson{\n",
    "    firstName: string;\n",
    "    lastName: string\n",
    "};\n",
    "class Evaluable{\n",
    "    isEmpty(): boolean{\n",
    "        console.log(this);\n",
    "        return this.isNullOrEmpty(this);\n",
    "    }\n",
    "    private isNullOrEmpty(data:any):boolean {\n",
    "        if (data == null) {\n",
    "            return true;\n",
    "        }\n",
    "        let isEmpty = false;\n",
    "        Object.keys(data).forEach(key => {\n",
    "            let val = data[key];\n",
    "            console.log(key);\n",
    "            console.log(val);\n",
    "            if (typeof val === 'string') {\n",
    "                console.log('it is a string!');\n",
    "                val = val ?? val.trim();\n",
    "            }\n",
    "            if (val == null || val === '') {\n",
    "                console.log('Value is empty')\n",
    "                isEmpty = true;\n",
    "                return;\n",
    "            }\n",
    "            console.log('Value is not empty')\n",
    "            isEmpty = false;\n",
    "        });\n",
    "        return isEmpty;\n",
    "    };\n",
    "};\n",
    "\n",
    "class Person extends Evaluable implements IPerson{\n",
    "    constructor(fName:string = '', lName:string = ''){\n",
    "        super();\n",
    "        this.firstName = fName;\n",
    "        this.lastName = lName;\n",
    "    }\n",
    "    firstName: string;\n",
    "    lastName: string;\n",
    "};\n",
    "\n",
    "const person = new Person();\n",
    "console.log(person.isEmpty());\n",
    "\n",
    " const person2 = new Person(\"Bipin\", \"Radhakrishnan\");\n",
    " console.log(person2.isEmpty());\n",
    "\n",
    "\n"
   ]
  },
  {
   "cell_type": "code",
   "execution_count": null,
   "metadata": {
    "dotnet_interactive": {
     "language": "csharp"
    }
   },
   "outputs": [],
   "source": [
    "function foo(){\n",
    "    try{\n",
    "        bar()\n",
    "    }catch (e){\n",
    "        console.log(\"Caught in Foo\",e);\n",
    "        throw e;\n",
    "    }\n",
    "}\n",
    "\n",
    "function bar(){\n",
    "    try{\n",
    "        ThrowException();\n",
    "    } catch (e) {\n",
    "        console.log(\"Caught in Bar\", e);\n",
    "        throw e;\n",
    "    }\n",
    "}\n",
    "\n",
    "function ThrowException(){\n",
    "    throw new Error('Error from baz');\n",
    "}\n",
    "\n",
    "try{\n",
    "    foo();\n",
    "} catch (e){\n",
    "    console.log(\"Caught in main\", e);\n",
    "}\n",
    "    "
   ]
  }
 ],
 "metadata": {
  "kernelspec": {
   "display_name": "TypeScript",
   "language": "typescript",
   "name": "tslab"
  },
  "language_info": {
   "codemirror_mode": {
    "mode": "typescript",
    "name": "javascript",
    "typescript": true
   },
   "file_extension": ".ts",
   "mimetype": "text/typescript",
   "name": "typescript",
   "version": "3.7.2"
  },
  "polyglot_notebook": {
   "kernelInfo": {
    "defaultKernelName": "csharp",
    "items": [
     {
      "aliases": [
       "c#",
       "C#"
      ],
      "languageName": "C#",
      "name": "csharp"
     },
     {
      "aliases": [
       "js"
      ],
      "languageName": "JavaScript",
      "name": "javascript"
     },
     {
      "aliases": [
       "frontend"
      ],
      "name": "vscode"
     },
     {
      "aliases": [],
      "name": "webview"
     },
     {
      "aliases": [
       "f#",
       "F#"
      ],
      "languageName": "F#",
      "name": "fsharp"
     },
     {
      "aliases": [],
      "name": ".NET"
     },
     {
      "aliases": [],
      "languageName": "HTML",
      "name": "html"
     },
     {
      "aliases": [],
      "languageName": "KQL",
      "name": "kql"
     },
     {
      "aliases": [],
      "languageName": "Mermaid",
      "name": "mermaid"
     },
     {
      "aliases": [
       "powershell"
      ],
      "languageName": "PowerShell",
      "name": "pwsh"
     },
     {
      "aliases": [],
      "languageName": "SQL",
      "name": "sql"
     },
     {
      "aliases": [],
      "name": "value"
     }
    ]
   }
  }
 },
 "nbformat": 4,
 "nbformat_minor": 2
}
