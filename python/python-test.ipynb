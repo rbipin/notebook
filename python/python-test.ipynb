{
 "cells": [
  {
   "cell_type": "code",
   "execution_count": 4,
   "metadata": {},
   "outputs": [
    {
     "name": "stdout",
     "output_type": "stream",
     "text": [
      "No\n"
     ]
    }
   ],
   "source": [
    "import json\n",
    "response = '{\"key\":\"value\"}'\n",
    "y = json.loads(response)\n",
    "\n",
    "if 'Key' not in y:\n",
    "  print('No')\n",
    "else:\n",
    "  print('Yes')"
   ]
  },
  {
   "cell_type": "code",
   "execution_count": 2,
   "metadata": {},
   "outputs": [
    {
     "name": "stdout",
     "output_type": "stream",
     "text": [
      "Before Executing the func\n",
      "Hi\n",
      "After executing func\n"
     ]
    }
   ],
   "source": [
    "def my_decorator(func):\n",
    "    def wrapper():\n",
    "        print('Before Executing the func')\n",
    "        func()\n",
    "        print('After executing func')\n",
    "    return wrapper\n",
    "\n",
    "@my_decorator\n",
    "def say_hi():\n",
    "    print('Hi')\n",
    "\n",
    "say_hi()\n"
   ]
  },
  {
   "cell_type": "code",
   "execution_count": null,
   "metadata": {
    "dotnet_interactive": {
     "language": "csharp"
    },
    "polyglot_notebook": {
     "kernelName": "csharp"
    }
   },
   "outputs": [],
   "source": [
    "import functools\n",
    "\n",
    "def my_decorator(func):\n",
    "    @functools.wraps(func)\n",
    "    def wrapper(*args, **kwargs):\n",
    "        print('hi')\n",
    "        func(*args, **kwargs)\n",
    "        print('bye')\n",
    "    return wrapper\n",
    "\n",
    "@my_decorator\n",
    "def say_greetings(val):\n",
    "    print(f'hello World, {val}')\n",
    "\n",
    "\n",
    "say_greetings('Bipin')\n"
   ]
  },
  {
   "cell_type": "code",
   "execution_count": null,
   "metadata": {
    "dotnet_interactive": {
     "language": "csharp"
    },
    "polyglot_notebook": {
     "kernelName": "csharp"
    }
   },
   "outputs": [],
   "source": [
    "def convertIPToBinary(ipAddress):\n",
    "    ipBinary= []\n",
    "    ip = [int(x) for x in ipAddress.split('.')]\n",
    "    # Binary format of the IP\n",
    "    for ipSec in ip:\n",
    "        binaryIPSection = format(ipSec,'08b')\n",
    "        ipBinary.append(binaryIPSection)\n",
    "    ipBinaryMerged = \"\".join(ipBinary)\n",
    "    return ipBinaryMerged\n",
    "\n",
    "def convertBinaryToIP(ipBinaryString):\n",
    "    binaryOctet = convertStringBinaryToOctet(ipBinaryString)\n",
    "    ipAddress = convertBinaryToInt(binaryOctet)\n",
    "    return ipAddress\n",
    "\n",
    "def convertStringBinaryToOctet(ipBinaryString):\n",
    "    firstOctet = ipBinaryString[0:8]\n",
    "    secondOctet = ipBinaryString[8:16]\n",
    "    thirdOctet= ipBinaryString[16:24]\n",
    "    fourthOctet= ipBinaryString[24:32]\n",
    "    return (firstOctet, secondOctet, thirdOctet, fourthOctet)\n",
    "\n",
    "def convertBinaryToInt(binaryOctetList):\n",
    "    ipList = []\n",
    "    for octet in binaryOctetList:\n",
    "        ip = int(octet, 2)\n",
    "        ipList.append(ip)\n",
    "    return ipList\n",
    "\n",
    "def extractNetworkAndHostIPPart(ipBinaryMerged, cidrRange):\n",
    "    totalBits = 32\n",
    "    hostIPRange = -1 * (totalBits - cidrRange)\n",
    "    networkIPPart = ipBinaryMerged[:cidrRange]\n",
    "    hostIPPart = ipBinaryMerged[hostIPRange:]\n",
    "    return (networkIPPart, hostIPPart)\n",
    "\n",
    "def zeroToOnes(ipBinary):\n",
    "    newIPBinary = ''\n",
    "    for ipBin in ipBinary:\n",
    "        if (ipBin == '0' ):\n",
    "            ipBin = '1'\n",
    "        newIPBinary += ipBin\n",
    "    return newIPBinary\n",
    "\n",
    "def OnesToZero(ipBinary):\n",
    "    newIPBinary = ''\n",
    "    for ipBin in ipBinary:\n",
    "        if (ipBin == '1' ):\n",
    "            ipBin = '0'\n",
    "        newIPBinary += ipBin\n",
    "    return newIPBinary\n",
    "\n",
    "def __extractSubnetMask(ipBinaryMerged, cidrRange):\n",
    "    subnetMaskIPBinary = ''\n",
    "    ipParts = extractNetworkAndHostIPPart(ipBinaryMerged, cidrRange)\n",
    "    networkIPPart = ipParts[0]\n",
    "    hostIPPart = ipParts[1]\n",
    "    newNetworkIP = zeroToOnes(networkIPPart)\n",
    "    subnetMaskIPBinary = newNetworkIP + hostIPPart\n",
    "    subnetMask = convertBinaryToIP(subnetMaskIPBinary)\n",
    "    return \".\".join(map(str, subnetMask))\n",
    "\n",
    "def extractSubnetMask(ipBinaryMerged, cidrRange):\n",
    "    subnetMaskIPBinary=''\n",
    "    ipParts = extractNetworkAndHostIPPart(ipBinaryMerged, cidrRange)\n",
    "    networkIPPart = ipParts[0]\n",
    "    hostIPPart = ipParts[1]\n",
    "    newNetworkIP = zeroToOnes(networkIPPart)\n",
    "    subnetMaskIPBinary = newNetworkIP + hostIPPart\n",
    "    subnetMask = convertBinaryToIP(subnetMaskIPBinary)\n",
    "    return \".\".join(map(str, subnetMask))\n",
    "\n",
    "def extractNetworkAddress(ipBinaryMerged, cidrRange):\n",
    "    ipParts = extractNetworkAndHostIPPart(ipBinaryMerged, cidrRange)\n",
    "    newHostIP = ''\n",
    "    networkIPPart = ipParts[0]\n",
    "    hostIPPart = ipParts[1]\n",
    "    newHostIP = OnesToZero(hostIPPart)\n",
    "    networkAddressBinary = networkIPPart + newHostIP\n",
    "    networkAddress = convertBinaryToIP(networkAddressBinary)\n",
    "    return \".\".join(map(str, networkAddress))\n",
    "\n",
    "def extractBroadcastAddress(ipBinaryMerged, cidrRange):\n",
    "    ipParts = extractNetworkAndHostIPPart(ipBinaryMerged, cidrRange)\n",
    "    newHostIP = ''\n",
    "    networkIPPart = ipParts[0]\n",
    "    hostIPPart = ipParts[1]\n",
    "    for ipBin in hostIPPart:\n",
    "        if (ipBin == '0'):\n",
    "            ipBin = '1'\n",
    "        newHostIP += ipBin\n",
    "    broadcastAddressBinary = networkIPPart + newHostIP\n",
    "    broadcastAddress = convertBinaryToIP(broadcastAddressBinary)\n",
    "    return \".\".join(map(str, broadcastAddress))\n",
    "\n",
    "\n",
    "def calculateIPCIDRRange(ipAddress, cidrRange):\n",
    "    totalBits = 32\n",
    "    hostIPRange = totalBits - cidrRange\n",
    "    totalIPsPossible = (2 ** hostIPRange)\n",
    "    totalUsableIPs = totalIPsPossible - 2\n",
    "    if (totalUsableIPs < 0):\n",
    "        totalUsableIPs = 0\n",
    "    print('Total IPs: ', totalIPsPossible)\n",
    "    print('Actual IPs: ', totalUsableIPs)\n",
    "    ipBinaryMerged = convertIPToBinary(ipAddress)\n",
    "    subnetMask = __extractSubnetMask(ipBinaryMerged, cidrRange)\n",
    "    print(\"Subnet Mask: \",subnetMask)\n",
    "    networkAddress = extractNetworkAddress(ipBinaryMerged, cidrRange)\n",
    "    print(\"Network Address: \", networkAddress)\n",
    "    broadcastAddress = extractBroadcastAddress(ipBinaryMerged, cidrRange)\n",
    "    print(\"Broadcast Address: \", broadcastAddress)\n",
    "\n",
    "\n",
    "calculateIPCIDRRange(\"74.125.227.0\", 15)"
   ]
  },
  {
   "cell_type": "code",
   "execution_count": null,
   "metadata": {
    "dotnet_interactive": {
     "language": "csharp"
    },
    "polyglot_notebook": {
     "kernelName": "csharp"
    }
   },
   "outputs": [],
   "source": [
    "print(format(125,'08b'))\n",
    "print(32-17)"
   ]
  }
 ],
 "metadata": {
  "kernelspec": {
   "display_name": "Python 3",
   "language": "python",
   "name": "python3"
  },
  "language_info": {
   "codemirror_mode": {
    "name": "ipython",
    "version": 3
   },
   "file_extension": ".py",
   "mimetype": "text/x-python",
   "name": "python",
   "nbconvert_exporter": "python",
   "pygments_lexer": "ipython3",
   "version": "3.11.1"
  },
  "polyglot_notebook": {
   "kernelInfo": {
    "defaultKernelName": "csharp",
    "items": [
     {
      "aliases": [
       "c#",
       "C#"
      ],
      "languageName": "C#",
      "name": "csharp"
     },
     {
      "aliases": [
       "f#",
       "F#"
      ],
      "languageName": "F#",
      "name": "fsharp"
     },
     {
      "aliases": [
       "frontend"
      ],
      "name": "vscode"
     }
    ]
   }
  },
  "vscode": {
   "interpreter": {
    "hash": "aee8b7b246df8f9039afb4144a1f6fd8d2ca17a180786b69acc140d282b71a49"
   }
  }
 },
 "nbformat": 4,
 "nbformat_minor": 2
}
