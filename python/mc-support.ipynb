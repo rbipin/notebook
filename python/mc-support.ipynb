{
  "cells": [
    {
      "attachments": {},
      "cell_type": "markdown",
      "metadata": {},
      "source": [
        "How to Set it up\n",
        "1. you need to create a secrets.json file with following structure\n",
        "    ```json\n",
        "    {\n",
        "        \"amp_client_id\": \"\",\n",
        "        \"amp_client_secret\": \"\",\n",
        "        \"amp_user_id\": \"\"\n",
        "    }\n",
        "    ```\n",
        "2. You need the aws token download to access the db"
      ]
    },
    {
      "cell_type": "code",
      "execution_count": 4,
      "metadata": {
        "dotnet_interactive": {
          "language": "python"
        }
      },
      "outputs": [
        {
          "name": "stdout",
          "output_type": "stream",
          "text": [
            "Loan: 3503440453\n",
            "Application Number: 49596933\n",
            "\n",
            "Clients In AMP\n",
            "+----+-----------------+-----------+-------------+-----------+\n",
            "|    | Client Name     |      GCID | Status      |       SSN |\n",
            "|----+-----------------+-----------+-------------+-----------|\n",
            "|  0 | Michelle  Bova  | 152771515 | Primary     | 129766453 |\n",
            "|  1 | Phil  Benedetto | 180287943 | Not Primary | 108705253 |\n",
            "+----+-----------------+-----------+-------------+-----------+\n"
          ]
        },
        {
          "ename": "ResourceNotFoundException",
          "evalue": "An error occurred (ResourceNotFoundException) when calling the Query operation: Requested resource not found",
          "output_type": "error",
          "traceback": [
            "\u001b[0;31m---------------------------------------------------------------------------\u001b[0m",
            "\u001b[0;31mResourceNotFoundException\u001b[0m                 Traceback (most recent call last)",
            "\u001b[1;32m/Users/BRadhakrishnan/Documents/repo/ql-personal/notebook/python/mc-support.ipynb Cell 1'\u001b[0m in \u001b[0;36m<cell line: 135>\u001b[0;34m()\u001b[0m\n\u001b[1;32m    <a href='vscode-notebook-cell:/Users/BRadhakrishnan/Documents/repo/ql-personal/notebook/python/mc-support.ipynb#ch0000000?line=131'>132</a>\u001b[0m \u001b[39mdef\u001b[39;00m \u001b[39mtabulateDataFrame\u001b[39m(df):\n\u001b[1;32m    <a href='vscode-notebook-cell:/Users/BRadhakrishnan/Documents/repo/ql-personal/notebook/python/mc-support.ipynb#ch0000000?line=132'>133</a>\u001b[0m     \u001b[39mprint\u001b[39m(tabulate(df, headers \u001b[39m=\u001b[39m \u001b[39m'\u001b[39m\u001b[39mkeys\u001b[39m\u001b[39m'\u001b[39m, tablefmt\u001b[39m=\u001b[39m\u001b[39m\"\u001b[39m\u001b[39mpsql\u001b[39m\u001b[39m\"\u001b[39m))\n\u001b[0;32m--> <a href='vscode-notebook-cell:/Users/BRadhakrishnan/Documents/repo/ql-personal/notebook/python/mc-support.ipynb#ch0000000?line=134'>135</a>\u001b[0m getClients()\n",
            "\u001b[1;32m/Users/BRadhakrishnan/Documents/repo/ql-personal/notebook/python/mc-support.ipynb Cell 1'\u001b[0m in \u001b[0;36mgetClients\u001b[0;34m()\u001b[0m\n\u001b[1;32m    <a href='vscode-notebook-cell:/Users/BRadhakrishnan/Documents/repo/ql-personal/notebook/python/mc-support.ipynb#ch0000000?line=127'>128</a>\u001b[0m \u001b[39mprint\u001b[39m(\u001b[39mf\u001b[39m\u001b[39m'\u001b[39m\u001b[39mApplication Number: \u001b[39m\u001b[39m{\u001b[39;00mapplicationNumber\u001b[39m}\u001b[39;00m\u001b[39m'\u001b[39m)\n\u001b[1;32m    <a href='vscode-notebook-cell:/Users/BRadhakrishnan/Documents/repo/ql-personal/notebook/python/mc-support.ipynb#ch0000000?line=128'>129</a>\u001b[0m getClientsInLoanFromAMP(applicationNumber)\n\u001b[0;32m--> <a href='vscode-notebook-cell:/Users/BRadhakrishnan/Documents/repo/ql-personal/notebook/python/mc-support.ipynb#ch0000000?line=129'>130</a>\u001b[0m getClientsInMC(loanIdentifier)\n",
            "\u001b[1;32m/Users/BRadhakrishnan/Documents/repo/ql-personal/notebook/python/mc-support.ipynb Cell 1'\u001b[0m in \u001b[0;36mgetClientsInMC\u001b[0;34m(loanNumber)\u001b[0m\n\u001b[1;32m     <a href='vscode-notebook-cell:/Users/BRadhakrishnan/Documents/repo/ql-personal/notebook/python/mc-support.ipynb#ch0000000?line=73'>74</a>\u001b[0m dynamodb \u001b[39m=\u001b[39m boto3\u001b[39m.\u001b[39mresource(\n\u001b[1;32m     <a href='vscode-notebook-cell:/Users/BRadhakrishnan/Documents/repo/ql-personal/notebook/python/mc-support.ipynb#ch0000000?line=74'>75</a>\u001b[0m     \u001b[39m'\u001b[39m\u001b[39mdynamodb\u001b[39m\u001b[39m'\u001b[39m, region_name\u001b[39m=\u001b[39m\u001b[39m\"\u001b[39m\u001b[39mus-east-2\u001b[39m\u001b[39m\"\u001b[39m, verify\u001b[39m=\u001b[39m\u001b[39mFalse\u001b[39;00m)\n\u001b[1;32m     <a href='vscode-notebook-cell:/Users/BRadhakrishnan/Documents/repo/ql-personal/notebook/python/mc-support.ipynb#ch0000000?line=75'>76</a>\u001b[0m table \u001b[39m=\u001b[39m dynamodb\u001b[39m.\u001b[39mTable(TABLE_NAME)\n\u001b[0;32m---> <a href='vscode-notebook-cell:/Users/BRadhakrishnan/Documents/repo/ql-personal/notebook/python/mc-support.ipynb#ch0000000?line=76'>77</a>\u001b[0m dynamoResponse \u001b[39m=\u001b[39m table\u001b[39m.\u001b[39;49mquery(\n\u001b[1;32m     <a href='vscode-notebook-cell:/Users/BRadhakrishnan/Documents/repo/ql-personal/notebook/python/mc-support.ipynb#ch0000000?line=77'>78</a>\u001b[0m     KeyConditionExpression\u001b[39m=\u001b[39;49mKey(\u001b[39m'\u001b[39;49m\u001b[39mLoanIdentifier\u001b[39;49m\u001b[39m'\u001b[39;49m)\u001b[39m.\u001b[39;49meq(\u001b[39mstr\u001b[39;49m(loanNumber)) \u001b[39m&\u001b[39;49m Key(\u001b[39m'\u001b[39;49m\u001b[39mSortKey\u001b[39;49m\u001b[39m'\u001b[39;49m)\u001b[39m.\u001b[39;49mbegins_with(\u001b[39m'\u001b[39;49m\u001b[39mPI#\u001b[39;49m\u001b[39m'\u001b[39;49m))\n\u001b[1;32m     <a href='vscode-notebook-cell:/Users/BRadhakrishnan/Documents/repo/ql-personal/notebook/python/mc-support.ipynb#ch0000000?line=79'>80</a>\u001b[0m \u001b[39mif\u001b[39;00m dynamoResponse:\n\u001b[1;32m     <a href='vscode-notebook-cell:/Users/BRadhakrishnan/Documents/repo/ql-personal/notebook/python/mc-support.ipynb#ch0000000?line=80'>81</a>\u001b[0m     clientNames \u001b[39m=\u001b[39m []\n",
            "File \u001b[0;32m~/Library/Python/3.10/lib/python/site-packages/boto3/resources/factory.py:580\u001b[0m, in \u001b[0;36mResourceFactory._create_action.<locals>.do_action\u001b[0;34m(self, *args, **kwargs)\u001b[0m\n\u001b[1;32m    <a href='file:///Users/BRadhakrishnan/Library/Python/3.10/lib/python/site-packages/boto3/resources/factory.py?line=578'>579</a>\u001b[0m \u001b[39mdef\u001b[39;00m \u001b[39mdo_action\u001b[39m(\u001b[39mself\u001b[39m, \u001b[39m*\u001b[39margs, \u001b[39m*\u001b[39m\u001b[39m*\u001b[39mkwargs):\n\u001b[0;32m--> <a href='file:///Users/BRadhakrishnan/Library/Python/3.10/lib/python/site-packages/boto3/resources/factory.py?line=579'>580</a>\u001b[0m     response \u001b[39m=\u001b[39m action(\u001b[39mself\u001b[39;49m, \u001b[39m*\u001b[39;49margs, \u001b[39m*\u001b[39;49m\u001b[39m*\u001b[39;49mkwargs)\n\u001b[1;32m    <a href='file:///Users/BRadhakrishnan/Library/Python/3.10/lib/python/site-packages/boto3/resources/factory.py?line=581'>582</a>\u001b[0m     \u001b[39mif\u001b[39;00m \u001b[39mhasattr\u001b[39m(\u001b[39mself\u001b[39m, \u001b[39m'\u001b[39m\u001b[39mload\u001b[39m\u001b[39m'\u001b[39m):\n\u001b[1;32m    <a href='file:///Users/BRadhakrishnan/Library/Python/3.10/lib/python/site-packages/boto3/resources/factory.py?line=582'>583</a>\u001b[0m         \u001b[39m# Clear cached data. It will be reloaded the next\u001b[39;00m\n\u001b[1;32m    <a href='file:///Users/BRadhakrishnan/Library/Python/3.10/lib/python/site-packages/boto3/resources/factory.py?line=583'>584</a>\u001b[0m         \u001b[39m# time that an attribute is accessed.\u001b[39;00m\n\u001b[1;32m    <a href='file:///Users/BRadhakrishnan/Library/Python/3.10/lib/python/site-packages/boto3/resources/factory.py?line=584'>585</a>\u001b[0m         \u001b[39m# TODO: Make this configurable in the future?\u001b[39;00m\n\u001b[1;32m    <a href='file:///Users/BRadhakrishnan/Library/Python/3.10/lib/python/site-packages/boto3/resources/factory.py?line=585'>586</a>\u001b[0m         \u001b[39mself\u001b[39m\u001b[39m.\u001b[39mmeta\u001b[39m.\u001b[39mdata \u001b[39m=\u001b[39m \u001b[39mNone\u001b[39;00m\n",
            "File \u001b[0;32m~/Library/Python/3.10/lib/python/site-packages/boto3/resources/action.py:88\u001b[0m, in \u001b[0;36mServiceAction.__call__\u001b[0;34m(self, parent, *args, **kwargs)\u001b[0m\n\u001b[1;32m     <a href='file:///Users/BRadhakrishnan/Library/Python/3.10/lib/python/site-packages/boto3/resources/action.py?line=78'>79</a>\u001b[0m params\u001b[39m.\u001b[39mupdate(kwargs)\n\u001b[1;32m     <a href='file:///Users/BRadhakrishnan/Library/Python/3.10/lib/python/site-packages/boto3/resources/action.py?line=80'>81</a>\u001b[0m logger\u001b[39m.\u001b[39mdebug(\n\u001b[1;32m     <a href='file:///Users/BRadhakrishnan/Library/Python/3.10/lib/python/site-packages/boto3/resources/action.py?line=81'>82</a>\u001b[0m     \u001b[39m'\u001b[39m\u001b[39mCalling \u001b[39m\u001b[39m%s\u001b[39;00m\u001b[39m:\u001b[39m\u001b[39m%s\u001b[39;00m\u001b[39m with \u001b[39m\u001b[39m%r\u001b[39;00m\u001b[39m'\u001b[39m,\n\u001b[1;32m     <a href='file:///Users/BRadhakrishnan/Library/Python/3.10/lib/python/site-packages/boto3/resources/action.py?line=82'>83</a>\u001b[0m     parent\u001b[39m.\u001b[39mmeta\u001b[39m.\u001b[39mservice_name,\n\u001b[1;32m     <a href='file:///Users/BRadhakrishnan/Library/Python/3.10/lib/python/site-packages/boto3/resources/action.py?line=83'>84</a>\u001b[0m     operation_name,\n\u001b[1;32m     <a href='file:///Users/BRadhakrishnan/Library/Python/3.10/lib/python/site-packages/boto3/resources/action.py?line=84'>85</a>\u001b[0m     params,\n\u001b[1;32m     <a href='file:///Users/BRadhakrishnan/Library/Python/3.10/lib/python/site-packages/boto3/resources/action.py?line=85'>86</a>\u001b[0m )\n\u001b[0;32m---> <a href='file:///Users/BRadhakrishnan/Library/Python/3.10/lib/python/site-packages/boto3/resources/action.py?line=87'>88</a>\u001b[0m response \u001b[39m=\u001b[39m \u001b[39mgetattr\u001b[39;49m(parent\u001b[39m.\u001b[39;49mmeta\u001b[39m.\u001b[39;49mclient, operation_name)(\u001b[39m*\u001b[39;49margs, \u001b[39m*\u001b[39;49m\u001b[39m*\u001b[39;49mparams)\n\u001b[1;32m     <a href='file:///Users/BRadhakrishnan/Library/Python/3.10/lib/python/site-packages/boto3/resources/action.py?line=89'>90</a>\u001b[0m logger\u001b[39m.\u001b[39mdebug(\u001b[39m'\u001b[39m\u001b[39mResponse: \u001b[39m\u001b[39m%r\u001b[39;00m\u001b[39m'\u001b[39m, response)\n\u001b[1;32m     <a href='file:///Users/BRadhakrishnan/Library/Python/3.10/lib/python/site-packages/boto3/resources/action.py?line=91'>92</a>\u001b[0m \u001b[39mreturn\u001b[39;00m \u001b[39mself\u001b[39m\u001b[39m.\u001b[39m_response_handler(parent, params, response)\n",
            "File \u001b[0;32m~/Library/Python/3.10/lib/python/site-packages/botocore/client.py:401\u001b[0m, in \u001b[0;36mClientCreator._create_api_method.<locals>._api_call\u001b[0;34m(self, *args, **kwargs)\u001b[0m\n\u001b[1;32m    <a href='file:///Users/BRadhakrishnan/Library/Python/3.10/lib/python/site-packages/botocore/client.py?line=397'>398</a>\u001b[0m     \u001b[39mraise\u001b[39;00m \u001b[39mTypeError\u001b[39;00m(\n\u001b[1;32m    <a href='file:///Users/BRadhakrishnan/Library/Python/3.10/lib/python/site-packages/botocore/client.py?line=398'>399</a>\u001b[0m         \u001b[39m\"\u001b[39m\u001b[39m%s\u001b[39;00m\u001b[39m() only accepts keyword arguments.\u001b[39m\u001b[39m\"\u001b[39m \u001b[39m%\u001b[39m py_operation_name)\n\u001b[1;32m    <a href='file:///Users/BRadhakrishnan/Library/Python/3.10/lib/python/site-packages/botocore/client.py?line=399'>400</a>\u001b[0m \u001b[39m# The \"self\" in this scope is referring to the BaseClient.\u001b[39;00m\n\u001b[0;32m--> <a href='file:///Users/BRadhakrishnan/Library/Python/3.10/lib/python/site-packages/botocore/client.py?line=400'>401</a>\u001b[0m \u001b[39mreturn\u001b[39;00m \u001b[39mself\u001b[39;49m\u001b[39m.\u001b[39;49m_make_api_call(operation_name, kwargs)\n",
            "File \u001b[0;32m~/Library/Python/3.10/lib/python/site-packages/botocore/client.py:731\u001b[0m, in \u001b[0;36mBaseClient._make_api_call\u001b[0;34m(self, operation_name, api_params)\u001b[0m\n\u001b[1;32m    <a href='file:///Users/BRadhakrishnan/Library/Python/3.10/lib/python/site-packages/botocore/client.py?line=728'>729</a>\u001b[0m     error_code \u001b[39m=\u001b[39m parsed_response\u001b[39m.\u001b[39mget(\u001b[39m\"\u001b[39m\u001b[39mError\u001b[39m\u001b[39m\"\u001b[39m, {})\u001b[39m.\u001b[39mget(\u001b[39m\"\u001b[39m\u001b[39mCode\u001b[39m\u001b[39m\"\u001b[39m)\n\u001b[1;32m    <a href='file:///Users/BRadhakrishnan/Library/Python/3.10/lib/python/site-packages/botocore/client.py?line=729'>730</a>\u001b[0m     error_class \u001b[39m=\u001b[39m \u001b[39mself\u001b[39m\u001b[39m.\u001b[39mexceptions\u001b[39m.\u001b[39mfrom_code(error_code)\n\u001b[0;32m--> <a href='file:///Users/BRadhakrishnan/Library/Python/3.10/lib/python/site-packages/botocore/client.py?line=730'>731</a>\u001b[0m     \u001b[39mraise\u001b[39;00m error_class(parsed_response, operation_name)\n\u001b[1;32m    <a href='file:///Users/BRadhakrishnan/Library/Python/3.10/lib/python/site-packages/botocore/client.py?line=731'>732</a>\u001b[0m \u001b[39melse\u001b[39;00m:\n\u001b[1;32m    <a href='file:///Users/BRadhakrishnan/Library/Python/3.10/lib/python/site-packages/botocore/client.py?line=732'>733</a>\u001b[0m     \u001b[39mreturn\u001b[39;00m parsed_response\n",
            "\u001b[0;31mResourceNotFoundException\u001b[0m: An error occurred (ResourceNotFoundException) when calling the Query operation: Requested resource not found"
          ]
        }
      ],
      "source": [
        "import pandas as pd\n",
        "from tabulate import tabulate\n",
        "import requests\n",
        "import json\n",
        "import boto3\n",
        "from boto3.dynamodb.conditions import Key\n",
        "import urllib3\n",
        "urllib3.disable_warnings(urllib3.exceptions.InsecureRequestWarning)\n",
        "secretsFile = open('secrets.json')\n",
        "secrets = json.load(secretsFile)\n",
        "amp_gw_url = 'https://apicorp.rockfin.com/openamp'\n",
        "req_headers = {\n",
        "    \"xAmpUserId\": secrets['amp_user_id'],\n",
        "    \"client_id\": secrets['amp_client_id'],\n",
        "    \"client_secret\": secrets['amp_client_secret'],\n",
        "    \"vnd.rockfin.appid\": \"206637\" \n",
        "}\n",
        "maskSSN = False\n",
        "\n",
        "def getLoanApplicationNumber(loanNumber: str):\n",
        "    applicationEndpoint = f'{amp_gw_url}/Application/Jacket/{loanNumber}'\n",
        "    resp = requests.get(applicationEndpoint, verify=False, headers=req_headers)\n",
        "    if resp.status_code == 200:\n",
        "        jsonResp = json.loads(resp.text)\n",
        "        return jsonResp[0]['applicationNumber']\n",
        "    else:\n",
        "        print(resp.status_code);\n",
        "        print('Unable to get application number')\n",
        "        return None\n",
        "\n",
        "\n",
        "def getClientsInLoanFromAMP(applicationNumber):\n",
        "    clientsEndpoint = f'{amp_gw_url}/Proxy/Client?ApplicationNumber={applicationNumber}'\n",
        "    resp = requests.get(clientsEndpoint, verify=False, headers=req_headers)\n",
        "    if resp.status_code == 200:\n",
        "        jsonResp = json.loads(resp.text)\n",
        "        clients = jsonResp['Clients']['Client']\n",
        "        print(\"\\nClients In AMP\")\n",
        "        clientNames = []\n",
        "        clientGCIDs = []\n",
        "        clientStatuses = []\n",
        "        clientSSNs = []\n",
        "        for client in clients:\n",
        "            name = f'{client[\"FirstName\"]} {client[\"MiddleName\"] if client[\"MiddleName\"] else \"\" } {client[\"LastName\"]}'\n",
        "            clientNames.append(name)\n",
        "            clientGCIDs.append(client['GCUID'])\n",
        "            status = 'Primary' if client['BorrowerNumber'] == 1 else 'Not Primary'\n",
        "            ssn = client['SSN'] if not maskSSN else '********'\n",
        "            clientStatuses.append(status)\n",
        "            clientSSNs.append(ssn)\n",
        "        df = pd.DataFrame({\n",
        "            \"Client Name\": clientNames,\n",
        "            \"GCID\": clientGCIDs,\n",
        "            \"Status\": clientStatuses,\n",
        "            \"SSN\": clientSSNs\n",
        "        })\n",
        "        tabulateDataFrame(df)\n",
        "    else:\n",
        "        print('Unable to get clients for loan')\n",
        "\n",
        "def getClientsInMC(loanNumber):\n",
        "    TABLE_NAME = \"mortgageclient-data-prod-206763\"\n",
        "    dynamodb = boto3.resource(\n",
        "        'dynamodb', region_name=\"us-east-2\", verify=False)\n",
        "    table = dynamodb.Table(TABLE_NAME)\n",
        "    dynamoResponse = table.query(\n",
        "        KeyConditionExpression=Key('LoanIdentifier').eq(str(loanNumber)) & Key('SortKey').begins_with('PI#'))\n",
        "\n",
        "    if dynamoResponse:\n",
        "        clientNames = []\n",
        "        clientGCIDs = []\n",
        "        clientStatuses = []\n",
        "        clientSSNs = []\n",
        "        recordStatuses = []\n",
        "        spouseOnLoanGCID = []\n",
        "        items = dynamoResponse['Items']\n",
        "        # print(items)\n",
        "        print('\\nClients In MC')\n",
        "        for count, item in enumerate(items):\n",
        "            name = f'{item[\"FirstName\"]} {item[\"MiddleName\"] if item.get(\"MiddleName\") else \"\"} {item[\"LastName\"]}'\n",
        "            status = 'Primary' if item['IsPrimary'] == True else 'Not Primary'\n",
        "            ssn = item['SSN'] if not maskSSN else '********'\n",
        "            recordStatus = 'Deleted' if item['IsDeleted'] == True else ''\n",
        "            spouseOnLoan = item['SpouseOnLoanGCID'] if 'SpouseOnLoanGCID' in item else ''\n",
        "            if item['IsPrimary'] == True and count != 0:\n",
        "                clientNames.insert(0, name)\n",
        "                clientGCIDs.insert(0, item['GCID'])\n",
        "                clientStatuses.insert(0, status)\n",
        "                clientSSNs.insert(0, ssn)\n",
        "                recordStatuses.insert(0, recordStatus)\n",
        "                spouseOnLoanGCID.insert(0, spouseOnLoan)\n",
        "                continue\n",
        "            clientNames.append(name)\n",
        "            clientGCIDs.append(item['GCID'])\n",
        "            clientStatuses.append(status)\n",
        "            clientSSNs.append(ssn)\n",
        "            recordStatuses.append(recordStatus)\n",
        "            spouseOnLoanGCID.append(spouseOnLoan)\n",
        "\n",
        "        df = pd.DataFrame({\n",
        "            \"Client Name\": clientNames,\n",
        "            \"GCID\": clientGCIDs,\n",
        "            \"Status\": clientStatuses,\n",
        "            \"Record Status\": recordStatuses,\n",
        "            \"SSN\": clientSSNs,\n",
        "            \"SpouseGCID\": spouseOnLoanGCID\n",
        "        })\n",
        "        tabulateDataFrame(df)\n",
        "\n",
        "\n",
        "def getClients():\n",
        "    loanIdentifier = int(input('Enter a Loan Number'))\n",
        "    applicationNumber = getLoanApplicationNumber(loanIdentifier)\n",
        "    if (applicationNumber == None):\n",
        "        return\n",
        "    print(f'Loan: {loanIdentifier}')\n",
        "    print(f'Application Number: {applicationNumber}')\n",
        "    getClientsInLoanFromAMP(applicationNumber)\n",
        "    getClientsInMC(loanIdentifier)\n",
        "       \n",
        "\n",
        "def tabulateDataFrame(df):\n",
        "    print(tabulate(df, headers = 'keys', tablefmt=\"psql\"))\n",
        "\n",
        "getClients()\n"
      ]
    },
    {
      "cell_type": "code",
      "execution_count": null,
      "metadata": {
        "dotnet_interactive": {
          "language": "csharp"
        }
      },
      "outputs": [],
      "source": []
    }
  ],
  "metadata": {
    "kernelspec": {
      "display_name": "Python 3",
      "language": "python",
      "name": "python3"
    },
    "language_info": {
      "codemirror_mode": {
        "name": "ipython",
        "version": 3
      },
      "file_extension": ".py",
      "mimetype": "text/x-python",
      "name": "python",
      "nbconvert_exporter": "python",
      "pygments_lexer": "ipython3",
      "version": "3.11.1"
    },
    "metadata": {
      "interpreter": {
        "hash": "7812ea015bdcee6f23a998adcdd2ef97c151c0c241b7b7070987d9313e41299d"
      }
    },
    "vscode": {
      "interpreter": {
        "hash": "7e1998ff7f8aa20ada591c520b972326324e5ea05489af9e422744c7c09f6dad"
      }
    }
  },
  "nbformat": 4,
  "nbformat_minor": 4
}
