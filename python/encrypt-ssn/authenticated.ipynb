{
 "cells": [
  {
   "cell_type": "code",
   "execution_count": 20,
   "metadata": {},
   "outputs": [
    {
     "name": "stdout",
     "output_type": "stream",
     "text": [
      "New token\n"
     ]
    },
    {
     "name": "stderr",
     "output_type": "stream",
     "text": [
      "/Users/BRadhakrishnan/Library/Python/3.11/lib/python/site-packages/urllib3/connectionpool.py:1045: InsecureRequestWarning: Unverified HTTPS request is being made to host 'sso.test.authrock.com'. Adding certificate verification is strongly advised. See: https://urllib3.readthedocs.io/en/1.26.x/advanced-usage.html#ssl-warnings\n",
      "  warnings.warn(\n",
      "/Users/BRadhakrishnan/Library/Python/3.11/lib/python/site-packages/urllib3/connectionpool.py:1045: InsecureRequestWarning: Unverified HTTPS request is being made to host 'orchestrator.test.mortgageclient-np.foc.zone'. Adding certificate verification is strongly advised. See: https://urllib3.readthedocs.io/en/1.26.x/advanced-usage.html#ssl-warnings\n",
      "  warnings.warn(\n"
     ]
    },
    {
     "name": "stdout",
     "output_type": "stream",
     "text": [
      "Success\n",
      "reuse token\n"
     ]
    },
    {
     "name": "stderr",
     "output_type": "stream",
     "text": [
      "/Users/BRadhakrishnan/Library/Python/3.11/lib/python/site-packages/urllib3/connectionpool.py:1045: InsecureRequestWarning: Unverified HTTPS request is being made to host 'orchestrator.test.mortgageclient-np.foc.zone'. Adding certificate verification is strongly advised. See: https://urllib3.readthedocs.io/en/1.26.x/advanced-usage.html#ssl-warnings\n",
      "  warnings.warn(\n"
     ]
    },
    {
     "name": "stdout",
     "output_type": "stream",
     "text": [
      "Success\n",
      "reuse token\n",
      "Success\n"
     ]
    },
    {
     "name": "stderr",
     "output_type": "stream",
     "text": [
      "/Users/BRadhakrishnan/Library/Python/3.11/lib/python/site-packages/urllib3/connectionpool.py:1045: InsecureRequestWarning: Unverified HTTPS request is being made to host 'orchestrator.test.mortgageclient-np.foc.zone'. Adding certificate verification is strongly advised. See: https://urllib3.readthedocs.io/en/1.26.x/advanced-usage.html#ssl-warnings\n",
      "  warnings.warn(\n"
     ]
    }
   ],
   "source": [
    "from datetime import datetime, timedelta\n",
    "import requests\n",
    "import json\n",
    "client_id=\"UhwVkDwt8qsx2p6xIVAJgkzgENbiwydV\"\n",
    "client_secret=\"\"\n",
    "audience=\"\"\n",
    "sso_url=\"\"\n",
    "\n",
    "class Authenicated:\n",
    "  __access_token = None\n",
    "  __expiry_time = None\n",
    "  \n",
    "  def get_token(self):\n",
    "    if (self.__access_token is None) or (self.__expiry_time <= datetime.now()) :\n",
    "      print('New token')\n",
    "      request_body = {\n",
    "          'client_id': client_id,\n",
    "          'client_secret': client_secret,\n",
    "          'audience': audience,\n",
    "          'grant_type': 'client_credentials'\n",
    "          }\n",
    "      response = requests.post(sso_url, data=request_body, verify=False)\n",
    "      if response.status_code == 200:\n",
    "        jsonResp = response.json()\n",
    "        expires_seconds = jsonResp['expires_in']\n",
    "        self.__access_token = jsonResp['access_token']\n",
    "        self.__expiry_time = datetime.now() + timedelta(seconds=expires_seconds)\n",
    "        return self.__access_token\n",
    "    else:\n",
    "      print('reuse token')\n",
    "      return self.__access_token\n",
    "\n",
    "    \n",
    "\n",
    "class Clients:\n",
    "  \n",
    "  def __init__(self):\n",
    "    self.auth = Authenicated()\n",
    "  \n",
    "  def get_clients(self, loanNumber):\n",
    "    try:\n",
    "      header = {\n",
    "        'Authorization': self.auth.get_token()\n",
    "      }\n",
    "      response = requests.get(f\"https://orchestrator.test.mortgageclient-np.foc.zone/loans/{loanNumber}/clients\", headers=header ,verify=False)\n",
    "      if response.status_code == 200:\n",
    "        print(\"Success\")\n",
    "      else:\n",
    "        print(f\"Failure {response.status_code}\")\n",
    "    except ex as Exception:\n",
    "       print(f\"Failure {ex}\")\n",
    "       \n",
    "def get_data():\n",
    "  c = Clients()\n",
    "  for loan in [\"8888881947\", \"4999999168\", \"4999999167\"]:\n",
    "    c.get_clients(loan)\n",
    "    \n",
    "get_data()"
   ]
  }
 ],
 "metadata": {
  "kernelspec": {
   "display_name": "Python 3",
   "language": "python",
   "name": "python3"
  },
  "language_info": {
   "codemirror_mode": {
    "name": "ipython",
    "version": 3
   },
   "file_extension": ".py",
   "mimetype": "text/x-python",
   "name": "python",
   "nbconvert_exporter": "python",
   "pygments_lexer": "ipython3",
   "version": "3.11.1"
  },
  "orig_nbformat": 4
 },
 "nbformat": 4,
 "nbformat_minor": 2
}
