{
 "cells": [
  {
   "cell_type": "code",
   "execution_count": 3,
   "metadata": {
    "dotnet_interactive": {
     "language": "csharp"
    },
    "polyglot_notebook": {
     "kernelName": "csharp"
    }
   },
   "outputs": [
    {
     "name": "stdout",
     "output_type": "stream",
     "text": [
      "True\n"
     ]
    }
   ],
   "source": [
    "class Person\n",
    "{\n",
    "  public bool IsSupported { get; set;}\n",
    "}\n",
    "\n",
    "Person? p = null;\n",
    "Console.WriteLine(p?.IsSupported != false);\n"
   ]
  },
  {
   "cell_type": "code",
   "execution_count": 13,
   "metadata": {
    "dotnet_interactive": {
     "language": "csharp"
    },
    "polyglot_notebook": {
     "kernelName": "csharp"
    }
   },
   "outputs": [
    {
     "name": "stdout",
     "output_type": "stream",
     "text": [
      "Record True\n",
      "Record False\n",
      "Record struct True\n",
      "Record struct False\n",
      "Record class True\n",
      "Record class False\n",
      "Class False\n",
      "Class False\n"
     ]
    }
   ],
   "source": [
    "public record Person(string FirstName, string LastName);\n",
    "var p1 = new Person(\"John\", \"Smith\");\n",
    "var p2 = new Person(\"John\", \"Smith\");\n",
    "var p3 = new Person(\"John\", \"Doe\");\n",
    "\n",
    "Console.WriteLine($\"Record {p1 == p2}\");\n",
    "Console.WriteLine($\"Record {p1 == p3}\");\n",
    "\n",
    "public record struct Guy(string FirstName, string Lastname);\n",
    "var g1 = new Guy(\"John\", \"Smith\");\n",
    "var g2 = new Guy(\"John\", \"Smith\");\n",
    "var g3 = new Guy(\"John\", \"Doe\");\n",
    "\n",
    "Console.WriteLine($\"Record struct {g1 == g2}\");\n",
    "Console.WriteLine($\"Record struct {g1 == g3}\");\n",
    "\n",
    "public record class NewPerson(string FirstName, string LastName);\n",
    "var np1 = new NewPerson(\"John\", \"Smith\");\n",
    "var np2 = new NewPerson(\"John\", \"Smith\");\n",
    "var np3 = new NewPerson(\"John\", \"Doe\");\n",
    "\n",
    "Console.WriteLine($\"Record class {np1 == np2}\");\n",
    "Console.WriteLine($\"Record class {np1 == np3}\");\n",
    "\n",
    "public class DifferentPerson\n",
    "{\n",
    "  public string FirstName {get; set;}\n",
    "  public string LastName { get; set;}\n",
    "\n",
    "  public DifferentPerson(string firstName, string lastName)\n",
    "  {\n",
    "    FirstName = firstName;\n",
    "    LastName = lastName;\n",
    "  }\n",
    "}\n",
    "\n",
    "var dp1 = new DifferentPerson(\"John\", \"Smith\");\n",
    "var dp2 = new DifferentPerson(\"John\", \"Smith\");\n",
    "var dp3 = new DifferentPerson(\"John\", \"Doe\");\n",
    "\n",
    "Console.WriteLine($\"Class {dp1 == dp2}\");\n",
    "Console.WriteLine($\"Class {dp1 == dp3}\");\n",
    "\n",
    "\n"
   ]
  },
  {
   "cell_type": "code",
   "execution_count": null,
   "metadata": {
    "dotnet_interactive": {
     "language": "csharp"
    },
    "polyglot_notebook": {
     "kernelName": "csharp"
    }
   },
   "outputs": [],
   "source": [
    "using System.Collections.Generic;\n",
    "class Person\n",
    "{\n",
    "}\n",
    "\n",
    "IEnumerable<Person> p = null;\n",
    "\n",
    "string CheckData(IEnumerable<Person>? p)\n",
    "{\n",
    "  return p == null? null: \"Yes\";\n",
    "}"
   ]
  },
  {
   "cell_type": "code",
   "execution_count": 7,
   "metadata": {
    "dotnet_interactive": {
     "language": "csharp"
    },
    "polyglot_notebook": {
     "kernelName": "csharp"
    }
   },
   "outputs": [
    {
     "name": "stdout",
     "output_type": "stream",
     "text": [
      "True\n",
      "False\n"
     ]
    }
   ],
   "source": [
    "using System;\n",
    "record Person(string FirstName);\n",
    "\n",
    "Person? p1 = new Person(\"Bipin\");\n",
    "Person? p2 = new Person(\"Bipin\");\n",
    "Person? p4 = new Person(\"Sam\");\n",
    "var p3 = p1;\n",
    "\n",
    "\n",
    "Console.WriteLine(p1 == p2);\n",
    "//Console.WriteLine($\"Reference P1, P2: {Object.ReferenceEquals(p1, p2)}\");\n",
    "Console.WriteLine(p1 == p4);\n",
    "//Console.WriteLine($\"Reference P1, P3: {Object.ReferenceEquals(p1, p3)}\");\n",
    "\n",
    "// record class Person2(string FirstName);\n",
    "\n",
    "// var rcP1 = new Person2(\"Bipin\");\n",
    "// var rcP2 = new Person2(\"Bipin\");\n",
    "// var rcP4 = new Person2(\"Sam\");\n",
    "// var rcP3 = rcP1;\n",
    "\n",
    "// Console.WriteLine(rcP1 == rcP2);\n",
    "// Console.WriteLine($\"Reference rcP1, rcP2: {Object.ReferenceEquals(rcP1, rcP2)}\");\n",
    "// Console.WriteLine(rcP1 == rcP4);\n",
    "// Console.WriteLine($\"Reference rcP1, rcP3: {Object.ReferenceEquals(rcP1, rcP3)}\");"
   ]
  },
  {
   "cell_type": "code",
   "execution_count": 1,
   "metadata": {
    "dotnet_interactive": {
     "language": "csharp"
    },
    "polyglot_notebook": {
     "kernelName": "csharp"
    }
   },
   "outputs": [
    {
     "name": "stdout",
     "output_type": "stream",
     "text": [
      "True\n",
      "True\n",
      "False\n"
     ]
    }
   ],
   "source": [
    "class Person \n",
    "{\n",
    "  public bool? Working{ get; set;}\n",
    "}\n",
    "\n",
    "void HasNoJob(Person p)\n",
    "{\n",
    "  Console.WriteLine(p is { Working: null or false});\n",
    "}\n",
    "var p = new Person() \n",
    "{\n",
    "  Working = false\n",
    "};\n",
    "\n",
    "var p1 = new Person();\n",
    "var p2 = new Person()\n",
    "{\n",
    "  Working = true\n",
    "};\n",
    "\n",
    "HasNoJob(p);\n",
    "HasNoJob(p1);\n",
    "HasNoJob(p2);"
   ]
  },
  {
   "cell_type": "code",
   "execution_count": 1,
   "metadata": {
    "dotnet_interactive": {
     "language": "csharp"
    },
    "polyglot_notebook": {
     "kernelName": "csharp"
    }
   },
   "outputs": [
    {
     "name": "stdout",
     "output_type": "stream",
     "text": [
      "null\n"
     ]
    }
   ],
   "source": [
    "public enum MilitaryBranch\n",
    "    {\n",
    "        Army,\n",
    "        Navy,\n",
    "        AirForce,\n",
    "        MarineCorps,\n",
    "        CoastGuard,\n",
    "        SpaceForce,\n",
    "        NOAA,\n",
    "        USPHS\n",
    "    }\n",
    "  MilitaryBranch? branch = null;\n",
    "  var newBranch = (MilitaryBranch?)branch;\n",
    "  Console.WriteLine(newBranch?.ToString() ?? \"null\");"
   ]
  },
  {
   "cell_type": "code",
   "execution_count": null,
   "metadata": {
    "dotnet_interactive": {
     "language": "csharp"
    },
    "polyglot_notebook": {
     "kernelName": "csharp"
    }
   },
   "outputs": [],
   "source": [
    "IEnumerable<(int ID, string Value)> tupleCollection = new List<(int ID, string Value)>()\n",
    "{\n",
    "  (123, \"Bipin\"),\n",
    "  (14789, \"Abcd\"),\n",
    "  (147, \"EFGH\")\n",
    "};\n",
    "\n",
    "var value = tupleCollection.FirstOrDefault(item => item.ID == 478);\n",
    "Console.WriteLine(value);"
   ]
  },
  {
   "cell_type": "code",
   "execution_count": null,
   "metadata": {
    "dotnet_interactive": {
     "language": "csharp"
    },
    "polyglot_notebook": {
     "kernelName": "csharp"
    }
   },
   "outputs": [],
   "source": []
  },
  {
   "cell_type": "code",
   "execution_count": null,
   "metadata": {
    "dotnet_interactive": {
     "language": "csharp"
    },
    "polyglot_notebook": {
     "kernelName": "csharp"
    }
   },
   "outputs": [],
   "source": [
    "enum Language\n",
    "{\n",
    "  English,\n",
    "  Spanish,\n",
    "  Other,\n",
    "  NotProvided\n",
    "}\n",
    "\n",
    "CheckEnum(Language.Other);\n",
    "CheckEnum(Language.NotProvided);\n",
    "CheckEnum(Language.English);\n",
    "\n",
    "void CheckEnum(Language language)\n",
    "{\n",
    "  if (language is not ( Language.Other or Language.NotProvided))\n",
    "  {\n",
    "    Console.WriteLine($\"Not Other or Not Provided - {language}\");\n",
    "  }\n",
    "  else\n",
    "  {\n",
    "    Console.WriteLine($\"Other Or Not Provided - {language}\");\n",
    "  }\n",
    "}\n",
    "\n"
   ]
  },
  {
   "cell_type": "code",
   "execution_count": null,
   "metadata": {
    "dotnet_interactive": {
     "language": "csharp"
    },
    "polyglot_notebook": {
     "kernelName": "csharp"
    }
   },
   "outputs": [],
   "source": [
    "DateOnly dateToday = DateOnly.FromDateTime(DateTime.Now);\n",
    "Console.WriteLine(dateToday);\n",
    "DateTime dtNow = dateToday.ToDateTime(new TimeOnly(0, 0));\n",
    "Console.WriteLine(dtNow);"
   ]
  },
  {
   "cell_type": "code",
   "execution_count": null,
   "metadata": {
    "dotnet_interactive": {
     "language": "csharp"
    },
    "polyglot_notebook": {
     "kernelName": "csharp"
    }
   },
   "outputs": [],
   "source": [
    "IsEmpty(new List<int>() {1, 2, 3});\n",
    "IsEmpty(new List<int>());\n",
    "IsEmpty(null);\n",
    "\n",
    "void IsEmpty(List<int>? list) {\n",
    "  if (!list?.Any() ?? true) {\n",
    "    Console.WriteLine(\"Empty or Null\");\n",
    "  }\n",
    "  else {\n",
    "    Console.WriteLine(\"Not Empty\");\n",
    "  }\n",
    "}"
   ]
  },
  {
   "cell_type": "code",
   "execution_count": null,
   "metadata": {
    "dotnet_interactive": {
     "language": "csharp"
    },
    "polyglot_notebook": {
     "kernelName": "csharp"
    }
   },
   "outputs": [],
   "source": [
    "class Deactivate \n",
    "{\n",
    "  public string DeactivatedBy {get; set;}\n",
    "  public IDType IDType {get; set; }\n",
    "}\n",
    "enum IDType\n",
    "{\n",
    "  CommonId,\n",
    "  NLMS\n",
    "}\n",
    "\n",
    "var d = new Deactivate();\n",
    "Console.WriteLine(d.IDType);\n"
   ]
  },
  {
   "cell_type": "code",
   "execution_count": null,
   "metadata": {
    "dotnet_interactive": {
     "language": "csharp"
    },
    "polyglot_notebook": {
     "kernelName": "csharp"
    }
   },
   "outputs": [],
   "source": [
    "using Newtonsoft.Json;\n",
    "\n",
    "public enum MilitaryInformationStatus \n",
    "{\n",
    "  NotProvided,\n",
    "  Military,\n",
    "  Civilian\n",
    "}\n",
    "public class MilitaryService\n",
    "    {\n",
    "        public string Branch { get; set; }\n",
    "        public string Component { get; set; }\n",
    "        public string Status { get; set; }\n",
    "        public DateTime? ExpirationOfTermOfServiceDate { get; set; }\n",
    "        public bool? HasPriorVAHomeLoan { get; set; }\n",
    "        public bool? WasDischargedUnderConditionsOtherThanDishonorable { get; set; }\n",
    "    }\n",
    "\n",
    "public class MilitaryServiceInformation: IEnumerable<MilitaryService>\n",
    "{\n",
    "   public static MilitaryServiceInformation Civilian => new MilitaryServiceInformation();\n",
    "\n",
    "  private MilitaryInformationStatus _militaryInformtionStatus = MilitaryInformationStatus.NotProvided;\n",
    "  public MilitaryInformationStatus MilitaryInformationStatus \n",
    "  { \n",
    "    get\n",
    "    {\n",
    "      if (_militaryInformtionStatus == MilitaryInformationStatus.NotProvided)\n",
    "      {\n",
    "        return _militaryInformtionStatus;\n",
    "      }\n",
    "      if (!militaryServiceList?.Any() ?? true)\n",
    "      {\n",
    "        return MilitaryInformationStatus.Civilian;\n",
    "      }\n",
    "      return MilitaryInformationStatus.Military;\n",
    "    }\n",
    "  }\n",
    "  private List<MilitaryService>? militaryServiceList = new List<MilitaryService>();\n",
    "  \n",
    "  public MilitaryServiceInformation(IEnumerable<MilitaryService>? militaryServices = null)\n",
    "  {\n",
    "    _militaryInformtionStatus = (!militaryServices?.Any() ?? true) \n",
    "                                ? MilitaryInformationStatus.NotProvided \n",
    "                                : MilitaryInformationStatus.Military;\n",
    "  }\n",
    "  private MilitaryServiceInformation()\n",
    "  {\n",
    "    _militaryInformtionStatus = MilitaryInformationStatus.Civilian;\n",
    "  }\n",
    "\n",
    "  public MilitaryService? this[int index]\n",
    "  {\n",
    "    get \n",
    "    {\n",
    "      if (!militaryServiceList?.Any() ?? true) \n",
    "      {\n",
    "        return null;\n",
    "      }\n",
    "      return militaryServiceList[index];  \n",
    "    }\n",
    "  }\n",
    "\n",
    "  public void Add(MilitaryService militaryService)\n",
    "  {\n",
    "    militaryServiceList.Add(militaryService);\n",
    "  }\n",
    "\n",
    "  //public static implicit operator List<MilitaryService>(MilitaryServiceInformation d) => d;\n",
    "  public static implicit operator MilitaryServiceInformation(List<MilitaryService> d) => new MilitaryServiceInformation(d);\n",
    "\n",
    "  public IEnumerator<MilitaryService>? GetEnumerator() => militaryServiceList?.GetEnumerator();\n",
    "  IEnumerator IEnumerable.GetEnumerator() => GetEnumerator();\n",
    "}\n",
    "\n",
    "MilitaryServiceInformation newMil = new List<MilitaryService>();\n",
    "\n",
    "var mil = MilitaryServiceInformation.Civilian;\n",
    "var military = JsonConvert.SerializeObject(mil, Formatting.Indented, new JsonSerializerSettings\n",
    "  {\n",
    "    NullValueHandling = NullValueHandling.Ignore\n",
    "  });\n",
    "Console.WriteLine(military);\n",
    "Console.WriteLine(mil.MilitaryInformationStatus);\n",
    "mil = new MilitaryServiceInformation();\n",
    "Console.WriteLine(mil.MilitaryInformationStatus);\n"
   ]
  },
  {
   "cell_type": "code",
   "execution_count": null,
   "metadata": {
    "dotnet_interactive": {
     "language": "csharp"
    },
    "polyglot_notebook": {
     "kernelName": "csharp"
    }
   },
   "outputs": [],
   "source": [
    "class Person {\n",
    "  public HadDebt HasDebt;\n",
    "}\n",
    "class HadDebt {\n",
    "  public bool? Value;\n",
    "}\n",
    "\n",
    "Person p1 = null;\n",
    "Person p2 = null;\n",
    "var boolval = (p1?.HasDebt?.Value == true || p2?.HasDebt?.Value == true);\n",
    "\n",
    "Console.WriteLine(boolval);"
   ]
  },
  {
   "cell_type": "code",
   "execution_count": null,
   "metadata": {
    "dotnet_interactive": {
     "language": "csharp"
    }
   },
   "outputs": [],
   "source": [
    "var loanStatus = 25;\n",
    "Console.Write(loanStatus is < 21 or (34 or 36));"
   ]
  },
  {
   "cell_type": "code",
   "execution_count": null,
   "metadata": {
    "dotnet_interactive": {
     "language": "csharp"
    },
    "polyglot_notebook": {
     "kernelName": "csharp"
    }
   },
   "outputs": [],
   "source": [
    "var datetimeNow = DateTime.Now;\n",
    "Console.WriteLine(datetimeNow.ToString(\"yyyy-MM-dd\"));"
   ]
  },
  {
   "cell_type": "code",
   "execution_count": null,
   "metadata": {
    "dotnet_interactive": {
     "language": "csharp"
    }
   },
   "outputs": [],
   "source": [
    "class Employee\n",
    "{\n",
    "  public string FirstName {get;set;}\n",
    "  public string LastName {get;set;}\n",
    "}\n",
    "var e = new Employee();\n",
    "Console.WriteLine(nameof(e.FirstName));"
   ]
  },
  {
   "cell_type": "code",
   "execution_count": null,
   "metadata": {
    "dotnet_interactive": {
     "language": "csharp"
    },
    "polyglot_notebook": {
     "kernelName": "csharp"
    }
   },
   "outputs": [],
   "source": [
    "using System.Linq;\n",
    "\n",
    "var list = new List<int>() { 0, 1, 2, 3 };\n",
    "list.ForEach(record => {\n",
    "  if (record == 0)\n",
    "  {\n",
    "    return;\n",
    "  }\n",
    "  Console.WriteLine(record);\n",
    "});\n"
   ]
  },
  {
   "cell_type": "code",
   "execution_count": null,
   "metadata": {
    "dotnet_interactive": {
     "language": "csharp"
    },
    "polyglot_notebook": {
     "kernelName": "csharp"
    }
   },
   "outputs": [],
   "source": [
    " public class QubecCanadaOuputFilterAttribute : ActionFilterAttribute\n",
    "        {\n",
    "            public override async void OnResultExecuting(ResultExecutingContext context)\n",
    "            {\n",
    "                var response = context.HttpContext.Response;\n",
    "                if (response.StatusCode != 200)\n",
    "                {\n",
    "                    base.OnResultExecuting(context);\n",
    "                }\n",
    "                var result = context.Result as ObjectResult;\n",
    "                result.Formatters.Add(new QuebecCanadaOutputFormatter());\n",
    "                \n",
    "                base.OnResultExecuting(context);\n",
    "            }\n",
    "        }\n"
   ]
  },
  {
   "cell_type": "code",
   "execution_count": null,
   "metadata": {
    "dotnet_interactive": {
     "language": "csharp"
    },
    "polyglot_notebook": {
     "kernelName": "csharp"
    }
   },
   "outputs": [],
   "source": [
    "var list = new List<string>();\n",
    "var values = list.Select(item => \"a\");\n",
    "if (values.Count() == 0)\n",
    "{\n",
    "  Console.WriteLine(\"Empty\");\n",
    "}"
   ]
  },
  {
   "cell_type": "code",
   "execution_count": null,
   "metadata": {
    "dotnet_interactive": {
     "language": "csharp"
    },
    "polyglot_notebook": {
     "kernelName": "csharp"
    }
   },
   "outputs": [],
   "source": [
    "static class DeclarationMapperExtension\n",
    "{\n",
    "    public static DomainDeclarationInformation MapOutStandingJudgement(this DomainDeclarationInformation destination, RLDeclarationInformation source)\n",
    "     {\n",
    "      if (source.HasOutstandingJudgments == null)\n",
    "      {\n",
    "        return destination;\n",
    "      }\n",
    "      destination.JudgementInformation ??= new ();\n",
    "      destination.JudgementInformation.HasOutstandingJudgments = source.HasOutstandingJudgments.Value;\n",
    "      return destination;\n",
    "  }\n",
    "\n",
    "  public static DomainDeclarationInformation MapBankruptcy(this DomainDeclarationInformation destination, RLDeclarationInformation source)\n",
    "     {\n",
    "      if (source.HasDeclaredBankruptcy == null)\n",
    "      {\n",
    "        return destination;\n",
    "      }\n",
    "      destination.BankruptcyInformation ??= new ();\n",
    "      destination.BankruptcyInformation.HasDeclaredBankruptcy = source.HasDeclaredBankruptcy.Value;\n",
    "      return destination;\n",
    "  }\n",
    "}\n",
    "\n",
    "class JudgementInf\n",
    "{\n",
    "  public bool? HasOutstandingJudgments;\n",
    "}\n",
    "\n",
    "class BankruptcyInf\n",
    "{\n",
    "  public bool? HasDeclaredBankruptcy;\n",
    "}\n",
    "\n",
    "class DomainDeclarationInformation\n",
    "{\n",
    "  public JudgementInf? JudgementInformation;\n",
    "  public BankruptcyInf? BankruptcyInformation;\n",
    "}\n",
    "\n",
    "class RLDeclarationInformation\n",
    "{\n",
    "  public bool? HasOutstandingJudgments;\n",
    "  public bool? HasDeclaredBankruptcy;\n",
    "}\n",
    "\n",
    "\n"
   ]
  },
  {
   "cell_type": "code",
   "execution_count": null,
   "metadata": {
    "dotnet_interactive": {
     "language": "csharp"
    }
   },
   "outputs": [],
   "source": [
    "List<string> a = new List<string>() {\"1\", \"2\"};\n",
    "if (!a?.Contains(\"2\") ?? true)\n",
    "{\n",
    "  Console.WriteLine(\"Yeah!\");\n",
    "}\n",
    "else\n",
    "{\n",
    "  Console.WriteLine(\"Nah!\");\n",
    "}"
   ]
  },
  {
   "cell_type": "code",
   "execution_count": null,
   "metadata": {
    "dotnet_interactive": {
     "language": "csharp"
    }
   },
   "outputs": [],
   "source": [
    "class Person\n",
    "{\n",
    "  public string FirstName {get; set;}\n",
    "}\n",
    "class Student: Person\n",
    "{\n",
    "   Student()\n",
    "   {\n",
    "     FirstName = \"Bipin\"\n",
    "   }\n",
    "}\n",
    "Person p = new Student();\n",
    "if (p is Student student)\n",
    "{\n",
    "  Console.WriteLine($\"Student {student.FirstName}\");\n",
    "}\n"
   ]
  },
  {
   "cell_type": "code",
   "execution_count": null,
   "metadata": {
    "dotnet_interactive": {
     "language": "csharp"
    }
   },
   "outputs": [],
   "source": [
    "public class Option\n",
    "{\n",
    "  public string FirstName {get; set;}\n",
    "}\n",
    "public void PrintLogAction(string value, Action<Option> option)\n",
    "{\n",
    "  Console.WriteLine(value);\n",
    "  var opt = new Option();\n",
    "  option(opt);\n",
    "  Console.WriteLine(opt.FirstName);\n",
    "}\n",
    "\n",
    "public void PrintLogFunc(string value, Func<Option> option)\n",
    "{\n",
    "  Console.WriteLine(value);\n",
    "  var opt = option();\n",
    "  if (opt == null)\n",
    "  {\n",
    "    throw new ArgumentNullException(nameof(opt));\n",
    "  }\n",
    "  Console.WriteLine(opt.FirstName);\n",
    "}\n",
    "\n",
    "//PrintLogAction(\"Action\", (opt) => { opt.FirstName = \"Bipin\"; });\n",
    "PrintLogFunc(\"Func\",);"
   ]
  },
  {
   "cell_type": "code",
   "execution_count": null,
   "metadata": {
    "dotnet_interactive": {
     "language": "csharp"
    }
   },
   "outputs": [],
   "source": [
    "using System.Reflection;\n",
    "class ParentClass\n",
    "{\n",
    "  public string ClassName\n",
    "  {\n",
    "    get\n",
    "    {\n",
    "     return this.GetType().Name; \n",
    "    }\n",
    "  }\n",
    "\n",
    "  public string MethodName\n",
    "  {\n",
    "    get\n",
    "    {\n",
    "      \n",
    "    }\n",
    "  }\n",
    "\n",
    "  public void ParentMethod()\n",
    "  {\n",
    "    Console.WriteLine($\"{ClassName}: {MethodName}\");\n",
    "  }\n",
    "}\n",
    "\n",
    "class ChildClass1: ParentClass\n",
    "{\n",
    "  public void ChildMethod()\n",
    "  {\n",
    "    Console.WriteLine($\"{ClassName}: {MethodName}\");\n",
    "  }\n",
    "}\n",
    "\n",
    "class ChildClass2: ParentClass\n",
    "{\n",
    "  public void ChildMethod()\n",
    "  {\n",
    "    Console.WriteLine($\"{ClassName}: {MethodName}\");\n",
    "  }\n",
    "}\n",
    "\n",
    "var c1= new ChildClass1();\n",
    "var c2 = new ChildClass2();\n",
    "var p = new ParentClass();\n",
    "\n",
    "p.ParentMethod();\n",
    "c1.ChildMethod();\n",
    "c2.ChildMethod();"
   ]
  },
  {
   "cell_type": "code",
   "execution_count": null,
   "metadata": {
    "dotnet_interactive": {
     "language": "csharp"
    }
   },
   "outputs": [],
   "source": [
    "using Newtonsoft.Json;\n",
    "\n",
    "string json =\"\";\n",
    "class Person {\n",
    "  public string Name { get; set; }\n",
    "};\n",
    "var v = JsonConvert.DeserializeObject<Person>(json);\n",
    "if (v == null){\n",
    "  Console.WriteLine(\"Null\");\n",
    "}\n",
    "\n"
   ]
  },
  {
   "cell_type": "code",
   "execution_count": null,
   "metadata": {
    "dotnet_interactive": {
     "language": "csharp"
    }
   },
   "outputs": [],
   "source": []
  },
  {
   "cell_type": "code",
   "execution_count": null,
   "metadata": {
    "dotnet_interactive": {
     "language": "csharp"
    }
   },
   "outputs": [],
   "source": [
    "class A {\n",
    "  public bool? Prop = null;\n",
    "}\n",
    "class B {\n",
    "  public bool? Prop1 = null;\n",
    "}\n",
    "\n",
    "var a = new A();\n",
    "Console.WriteLine(a.Prop.Value is true);"
   ]
  },
  {
   "cell_type": "code",
   "execution_count": null,
   "metadata": {
    "dotnet_interactive": {
     "language": "csharp"
    }
   },
   "outputs": [],
   "source": []
  },
  {
   "cell_type": "code",
   "execution_count": null,
   "metadata": {
    "dotnet_interactive": {
     "language": "csharp"
    }
   },
   "outputs": [],
   "source": [
    "public string Type {\n",
    "  get { return \"PI\" ;}\n",
    "  set => value = \"PI\";\n",
    "}\n",
    "Console.WriteLine(Type);"
   ]
  },
  {
   "cell_type": "code",
   "execution_count": null,
   "metadata": {
    "dotnet_interactive": {
     "language": "csharp"
    }
   },
   "outputs": [],
   "source": [
    "https://raw.githubusercontent.com/rockfin/bradhakrishnan/HandyPack/edit/master/README.md"
   ]
  },
  {
   "cell_type": "code",
   "execution_count": null,
   "metadata": {
    "dotnet_interactive": {
     "language": "csharp"
    }
   },
   "outputs": [],
   "source": [
    "decimal value = 3;\n",
    "decimal lower = 1;\n",
    "decimal upper = 3;\n",
    "var result = value.CompareTo(lower) >= 0 && value.CompareTo(upper) < 0;\n",
    "Console.WriteLine(result);"
   ]
  },
  {
   "cell_type": "code",
   "execution_count": null,
   "metadata": {
    "dotnet_interactive": {
     "language": "csharp"
    }
   },
   "outputs": [],
   "source": [
    "decimal value = 3;\n",
    "decimal lower = 1;\n",
    "decimal upper = 3;\n",
    "var result = value.CompareTo(lower) >= 0 && value.CompareTo(upper) < 0;\n",
    "Console.WriteLine(result);"
   ]
  },
  {
   "cell_type": "code",
   "execution_count": null,
   "metadata": {
    "dotnet_interactive": {
     "language": "csharp"
    }
   },
   "outputs": [],
   "source": [
    "using Newtonsoft.Json;\n",
    "    public static string ToJson<T>(this T value, bool indentation = false) where T : class\n",
    "        {\n",
    "            var formatting = indentation ? Formatting.Indented : Formatting.None;\n",
    "            return value == null ? null : JsonConvert.SerializeObject(value, formatting);\n",
    "        }\n",
    "\n",
    "class PersonBase {\n",
    "  public string FirstName {get; set;}\n",
    "  public string LastName {get; set;}\n",
    "}\n",
    "\n",
    "class Person: PersonBase{\n",
    "  public int Age {get; set;}\n",
    "}\n",
    "\n",
    "class NewPerson: PersonBase{\n",
    "  public string Country {get; set;}\n",
    "}\n",
    "\n",
    "var pbList = new List<PersonBase>();\n",
    "pbList.Add(new Person { FirstName =\"Abcd\", LastName=\"Efgh\", Age=15});\n",
    "pbList.Add(new NewPerson { FirstName =\"NewPerson\", LastName=\"NewLastName\", Country=\"Some\"});\n",
    "Console.WriteLine(pbList.ToJson(true));"
   ]
  },
  {
   "cell_type": "code",
   "execution_count": null,
   "metadata": {
    "dotnet_interactive": {
     "language": "csharp"
    }
   },
   "outputs": [],
   "source": [
    "using Newtonsoft.Json;\n",
    "    public static string ToJson<T>(this T value, bool indentation = false) where T : class\n",
    "        {\n",
    "            var formatting = indentation ? Formatting.Indented : Formatting.None;\n",
    "            return value == null ? null : JsonConvert.SerializeObject(value, formatting);\n",
    "        }\n",
    "\n",
    "class PersonBase {\n",
    "  public string FirstName {get; set;}\n",
    "  public string LastName {get; set;}\n",
    "}\n",
    "\n",
    "class Person: PersonBase{\n",
    "  public int Age {get; set;}\n",
    "}\n",
    "\n",
    "class NewPerson: PersonBase{\n",
    "  public string Country {get; set;}\n",
    "}\n",
    "\n",
    "var pbList = new List<PersonBase>();\n",
    "pbList.Add(new Person { FirstName =\"Abcd\", LastName=\"Efgh\", Age=15});\n",
    "pbList.Add(new NewPerson { FirstName =\"NewPerson\", LastName=\"NewLastName\", Country=\"Some\"});\n",
    "Console.WriteLine(pbList.ToJson(true));"
   ]
  },
  {
   "cell_type": "code",
   "execution_count": null,
   "metadata": {
    "dotnet_interactive": {
     "language": "csharp"
    }
   },
   "outputs": [],
   "source": [
    "private void Display()\n",
    "{\n",
    "    foreach(var i in YieldedValue())\n",
    "    {\n",
    "        Console.WriteLine($\"Yielded Count: {i}\");\n",
    "    }\n",
    "}\n",
    "private IEnumerable<int> YieldedValue()\n",
    "{\n",
    "    for(var i =1; i<=10;i++)\n",
    "    {\n",
    "        yield return i;\n",
    "    }\n",
    "}\n",
    "Display();"
   ]
  },
  {
   "cell_type": "code",
   "execution_count": null,
   "metadata": {
    "dotnet_interactive": {
     "language": "csharp"
    }
   },
   "outputs": [],
   "source": [
    "private void Display()\n",
    "{\n",
    "    foreach(var i in YieldedValue())\n",
    "    {\n",
    "        Console.WriteLine($\"Yielded Count: {i}\");\n",
    "    }\n",
    "}\n",
    "private IEnumerable<int> YieldedValue()\n",
    "{\n",
    "    for(var i =1; i<=10;i++)\n",
    "    {\n",
    "        yield return i;\n",
    "    }\n",
    "}\n",
    "Display();"
   ]
  },
  {
   "cell_type": "code",
   "execution_count": null,
   "metadata": {
    "dotnet_interactive": {
     "language": "csharp"
    }
   },
   "outputs": [],
   "source": [
    "// Make a Http Call in Jupyter using C#\n",
    "using System.Net.Http;\n",
    "using Newtonsoft.Json;\n",
    "using System.IO;\n",
    "using System;\n",
    "\n",
    "public class Planet \n",
    "{\n",
    "    public string Name { get; set; }\n",
    "    public List<string> Films { get; set; }Î\n",
    "}\n",
    "\n",
    "public class Planets\n",
    "{\n",
    "    public int Count {get; set;}\n",
    "    public string Next{get; set;}\n",
    "    public List<Planet> Results { get; set; }\n",
    "}\n",
    "\n",
    "\n",
    "\n",
    "private async Task GetPlanets()\n",
    "{\n",
    "   var httpClient = new HttpClient();\n",
    "   var httpResponse = await httpClient.GetAsync(\"https://swapi.dev/api/planets/\");\n",
    "   if (httpResponse.IsSuccessStatusCode)\n",
    "   {\n",
    "    var content = await httpResponse.Content.ReadAsStringAsync();\n",
    "    var planets = JsonConvert.DeserializeObject<Planets>(content);\n",
    "    PrintPlanets(planets);\n",
    "   } else\n",
    "   {\n",
    "    Console.WriteLine($\"Error Code: {httpResponse.StatusCode}\");\n",
    "   }\n",
    "}\n",
    "\n",
    "private void PrintPlanets(Planets planets)\n",
    "{\n",
    "    if (planets == null)\n",
    "    {\n",
    "        Console.WriteLine(\"Planets Is empty\");\n",
    "        return;\n",
    "    }\n",
    "    Console.WriteLine($\"Total Planets: {planets.Count}\");\n",
    "    if (planets.Results == null || planets.Results.Count == 0)\n",
    "    {\n",
    "        return;\n",
    "    }\n",
    "    foreach(var planet in planets.Results)\n",
    "    {\n",
    "        Console.WriteLine(planet.Name);\n",
    "    }\n",
    "}\n",
    "\n",
    "await GetPlanets();\n"
   ]
  },
  {
   "cell_type": "code",
   "execution_count": null,
   "metadata": {
    "dotnet_interactive": {
     "language": "csharp"
    }
   },
   "outputs": [],
   "source": [
    "using Newtonsoft.Json;\n",
    "public class Question\n",
    "{\n",
    "    public string Key { get; set; }\n",
    "    public string Label { get; set; }\n",
    "    public string ControlType { get; set; }\n",
    "    public IEnumerable<Option> Options { get; set; }\n",
    "    public string ReasonForAsking { get; set; }\n",
    "    public IEnumerable<NextStep> NextSteps { get; set; }\n",
    "}\n",
    "\n",
    "public class NextStep\n",
    "    {\n",
    "        public string Value { get; set; }\n",
    "        public IEnumerable<string> NextQuestionId { get; set; }\n",
    "    }\n",
    "    public class Option\n",
    "    {\n",
    "        public string Key { get; set; }\n",
    "        public string Value { get; set; }\n",
    "        public bool? ResetOptions { get; set; }\n",
    "    }\n",
    "    public class BaseQuestion\n",
    "    {\n",
    "        public string Identifier { get; set; }\n",
    "        public string Header { get; set; }\n",
    "        public string Description { get; set; }\n",
    "        public IEnumerable<Question> Questions { get; set; }\n",
    "    }\n",
    "    public class TrailQuestions\n",
    "    {\n",
    "        public bool? AllowMultipleInput { get; set; }\n",
    "        public string MultipleInputButtonLabel { get; set; }\n",
    "        public IEnumerable<SubQuestion> Questions { get; set; }\n",
    "    }\n",
    "    public class SubQuestion\n",
    "    {\n",
    "        public string Key { get; set; }\n",
    "        public string Label { get; set; }\n",
    "        public bool Required { get; set; }\n",
    "        public string ControlType { get; set; }\n",
    "        public IEnumerable<Option> Options { get; set; }\n",
    "        public string ReasonForAsking { get; set; }\n",
    "        public string Placeholder { get; set; }\n",
    "        public string Group { get; set; }\n",
    "        public IEnumerable<NextStep> NextSteps { get; set; }\n",
    "    }\n",
    "    public static TrailQuestions GetPreForeclosureOrShortSaleQuestions()\n",
    "    {\n",
    "        return new TrailQuestions()\n",
    "        {\n",
    "            AllowMultipleInput = true,\n",
    "            MultipleInputButtonLabel = \"Pre-Foreclosure Or Short Sale\",\n",
    "            Questions = new List<SubQuestion>()\n",
    "            {\n",
    "                new SubQuestion()\n",
    "                {\n",
    "                    Key = \"SaleDate\",\n",
    "                    Label = \"When was the sale finalized?\",\n",
    "                    Required = true,\n",
    "                    ControlType = \"textbox-date\",\n",
    "                    Options = null,\n",
    "                    ReasonForAsking = null,\n",
    "                    Placeholder = \"Finalized Date\",\n",
    "                    Group = null,\n",
    "                    NextSteps = new List<NextStep>()\n",
    "                        {\n",
    "                            new NextStep()\n",
    "                            {\n",
    "                                Value = \"\",\n",
    "                                NextQuestionId = new List<string>() { \"AddressLine1\", \"AddressLine2\", \"Locality\", \"AdministrativeArea\", \"PostCodeBase\" }\n",
    "                            },\n",
    "                        }\n",
    "                },\n",
    "                new SubQuestion()\n",
    "                {\n",
    "                    Key = \"AddressLine1\",\n",
    "                    Label = \"What was the address of the property that was on pre-foreclosure or short sale?\",\n",
    "                    Required = true,\n",
    "                    ControlType = \"textbox\",\n",
    "                    Options = null,\n",
    "                    ReasonForAsking = null,\n",
    "                    Placeholder = \"Street\",\n",
    "                    Group = \"Address\",\n",
    "                    NextSteps = null\n",
    "                },\n",
    "                new SubQuestion()\n",
    "                {\n",
    "                    Key = \"AddressLine2\",\n",
    "                    Label = \"Unit/Apt/Suite #\",\n",
    "                    Required = false,\n",
    "                    ControlType = \"textbox\",\n",
    "                    Options = null,\n",
    "                    ReasonForAsking = null,\n",
    "                    Placeholder = \"Unit/Apt/Suite # (optional)\",\n",
    "                    Group = \"Address\",\n",
    "                    NextSteps = null\n",
    "                },\n",
    "                new SubQuestion()\n",
    "                {\n",
    "                    Key = \"Locality\",\n",
    "                    Label = \"City\",\n",
    "                    Required = true,\n",
    "                    ControlType = \"textbox\",\n",
    "                    Options = null,\n",
    "                    ReasonForAsking = null,\n",
    "                    Placeholder = \"City\",\n",
    "                    Group = \"Address\",\n",
    "                    NextSteps = null\n",
    "                },\n",
    "                new SubQuestion()\n",
    "                {\n",
    "                    Key = \"AdministrativeArea\",\n",
    "                    Label = \"State\",\n",
    "                    Required = true,\n",
    "                    ControlType = \"textbox\",\n",
    "                    Options = null,\n",
    "                    ReasonForAsking = null,\n",
    "                    Placeholder = \"State\",\n",
    "                    Group = \"Address\",\n",
    "                    NextSteps = null\n",
    "                },\n",
    "                new SubQuestion()\n",
    "                {\n",
    "                    Key = \"PostCodeBase\",\n",
    "                    Label = \"Zip Code\",\n",
    "                    Required = true,\n",
    "                    ControlType = \"textbox\",\n",
    "                    Options = null,\n",
    "                    ReasonForAsking = null,\n",
    "                    Placeholder = \"Zip\",\n",
    "                    Group = \"Address\",\n",
    "                    NextSteps = new List<NextStep>()\n",
    "                        {\n",
    "                            new NextStep()\n",
    "                            {\n",
    "                                Value = \"\",\n",
    "                                NextQuestionId = new List<string>() { \"MortgageLender\" }\n",
    "                            },\n",
    "                        }\n",
    "                },\n",
    "                new SubQuestion()\n",
    "                {\n",
    "                    Key = \"MortgageLender\",\n",
    "                    Label = \"Who was the lender on the property?\",\n",
    "                    Required = true,\n",
    "                    ControlType = \"textbox\",\n",
    "                    Options = null,\n",
    "                    ReasonForAsking = null,\n",
    "                    Placeholder = \"Mortgage Lender\",\n",
    "                    Group = null,\n",
    "                    NextSteps = null\n",
    "                }\n",
    "            }\n",
    "        };\n",
    "    }\n",
    "\n",
    "Console.WriteLine(JsonConvert.SerializeObject(GetPreForeclosureOrShortSaleQuestions(), Formatting.Indented));            \n"
   ]
  },
  {
   "cell_type": "code",
   "execution_count": null,
   "metadata": {
    "dotnet_interactive": {
     "language": "csharp"
    }
   },
   "outputs": [],
   "source": [
    "List<int> cq = new List<int>() { 1,2,3,4 };\n",
    "List<int> mc = new List<int>() { 1,2,3,5 };\n",
    "\n",
    "IEnumerable<int> onlyInFirstSet = cq.Except(mc);\n",
    "\n",
    "foreach (double number in onlyInFirstSet)\n",
    "    Console.WriteLine(number);\n"
   ]
  },
  {
   "cell_type": "code",
   "execution_count": null,
   "metadata": {
    "dotnet_interactive": {
     "language": "csharp"
    }
   },
   "outputs": [],
   "source": [
    "List<int> numList = new List<int> {1, 3, 5, 7};\n",
    "var newNumList = numList.Where(num => num%2 == 0);\n",
    "Console.WriteLine($\"Count: {newNumList.Count()}\");\n",
    "foreach(var str in newNumList)\n",
    "{\n",
    "    Console.WriteLine(str);\n",
    "}\n"
   ]
  },
  {
   "cell_type": "code",
   "execution_count": null,
   "metadata": {
    "dotnet_interactive": {
     "language": "csharp"
    }
   },
   "outputs": [],
   "source": [
    "void foo(){\n",
    "    try\n",
    "    {\n",
    "        bar();\n",
    "    }\n",
    "    catch(Exception ex)\n",
    "    {\n",
    "        Console.WriteLine(ex);\n",
    "        throw ex;\n",
    "    }\n",
    "}\n",
    "void bar(){\n",
    "    try\n",
    "    {\n",
    "        ThrowException();\n",
    "    }\n",
    "    catch(Exception ex)\n",
    "    {\n",
    "        Console.WriteLine(ex);\n",
    "        throw ex;\n",
    "    }\n",
    "}\n",
    "void ThrowException(){\n",
    "    throw new Exception(\"Error from baz\");\n",
    "}\n",
    "\n",
    "try{\n",
    "    foo();\n",
    "}\n",
    "catch(Exception ex){\n",
    "    Console.WriteLine(ex);\n",
    "}"
   ]
  },
  {
   "cell_type": "code",
   "execution_count": null,
   "metadata": {
    "dotnet_interactive": {
     "language": "csharp"
    }
   },
   "outputs": [],
   "source": [
    "using Newtonsoft.Json;\n",
    "using System.Collections.Generic;\n",
    "\n",
    "Dictionary<string, string> newDictionary = new Dictionary<string, string>() {\n",
    "    {\"key\", \"Some Value\"},\n",
    "    {\"key1\", \"Value1\"}\n",
    "};\n",
    "Console.WriteLine(JsonConvert.SerializeObject(newDictionary));\n"
   ]
  },
  {
   "cell_type": "code",
   "execution_count": null,
   "metadata": {
    "dotnet_interactive": {
     "language": "csharp"
    }
   },
   "outputs": [],
   "source": []
  },
  {
   "cell_type": "code",
   "execution_count": null,
   "metadata": {
    "dotnet_interactive": {
     "language": "csharp"
    }
   },
   "outputs": [],
   "source": [
    "using System;\n",
    "\n",
    "class Person {\n",
    "    public string Name {get; set;}\n",
    "    public int Id = 5;\n",
    "\n",
    "    public static implicit operator Person(string name) {\n",
    "        return new Person(){ Name = name};\n",
    "    }\n",
    "    public static explicit operator string(Person p){\n",
    "        return p.Name;\n",
    "    }\n",
    "    public static explicit operator int(Person p){\n",
    "        return p.Id;\n",
    "    }\n",
    "}\n",
    "\n",
    "Person p = \"Bipin\";\n",
    "Console.WriteLine((string)p);\n",
    "Console.WriteLine((int)p);\n",
    "\n",
    "\n"
   ]
  },
  {
   "cell_type": "code",
   "execution_count": null,
   "metadata": {
    "dotnet_interactive": {
     "language": "csharp"
    }
   },
   "outputs": [],
   "source": [
    "class LivingThing{\n",
    "  public bool? HasLife;\n",
    "}\n",
    "\n",
    "LivingThing a = new LivingThing();\n",
    "a.HasLife = null;\n",
    "Console.WriteLine(a?.HasLife is false);"
   ]
  },
  {
   "cell_type": "code",
   "execution_count": null,
   "metadata": {
    "dotnet_interactive": {
     "language": "csharp"
    }
   },
   "outputs": [],
   "source": [
    "private static bool In<T>(this T value, params T[] input)\n",
    "{\n",
    "  if (input is null)\n",
    "  {\n",
    "    throw new ArgumentNullException();\n",
    "  }\n",
    "  return input.Contains(value);\n",
    "}\n",
    "\n",
    "if (\"Bipin\".In(\"Bipin\",\"Test\", \"Test2\"))\n",
    "{\n",
    "  Console.WriteLine(\"Yeah!\");\n",
    "}"
   ]
  },
  {
   "cell_type": "code",
   "execution_count": null,
   "metadata": {
    "dotnet_interactive": {
     "language": "csharp"
    }
   },
   "outputs": [],
   "source": [
    "bool? update = true;\n",
    "if (update is true)\n",
    "{\n",
    "  Console.WriteLine(\"True\");\n",
    "}\n",
    "else\n",
    "{\n",
    "  Console.WriteLine(\"False\");\n",
    "}\n",
    "\n"
   ]
  },
  {
   "cell_type": "code",
   "execution_count": null,
   "metadata": {
    "dotnet_interactive": {
     "language": "csharp"
    }
   },
   "outputs": [],
   "source": [
    "bool? update = true;\n",
    "if (update is true)\n",
    "{\n",
    "  Console.WriteLine(\"True\");\n",
    "}\n",
    "else\n",
    "{\n",
    "  Console.WriteLine(\"False\");\n",
    "}\n",
    "\n"
   ]
  }
 ],
 "metadata": {
  "kernelspec": {
   "display_name": ".NET (C#)",
   "language": "C#",
   "name": ".net-csharp"
  },
  "language_info": {
   "name": "polyglot-notebook"
  },
  "polyglot_notebook": {
   "kernelInfo": {
    "defaultKernelName": "csharp",
    "items": [
     {
      "aliases": [],
      "name": ".NET"
     },
     {
      "aliases": [
       "C#",
       "c#"
      ],
      "languageName": "C#",
      "name": "csharp"
     },
     {
      "aliases": [
       "F#",
       "f#"
      ],
      "languageName": "F#",
      "name": "fsharp"
     },
     {
      "aliases": [],
      "languageName": "HTML",
      "name": "html"
     },
     {
      "aliases": [
       "js"
      ],
      "languageName": "JavaScript",
      "name": "javascript"
     },
     {
      "aliases": [],
      "languageName": "KQL",
      "name": "kql"
     },
     {
      "aliases": [],
      "languageName": "Mermaid",
      "name": "mermaid"
     },
     {
      "aliases": [
       "powershell"
      ],
      "languageName": "PowerShell",
      "name": "pwsh"
     },
     {
      "aliases": [],
      "languageName": "SQL",
      "name": "sql"
     },
     {
      "aliases": [],
      "name": "value"
     },
     {
      "aliases": [
       "frontend"
      ],
      "name": "vscode"
     },
     {
      "aliases": [],
      "name": "webview"
     }
    ]
   }
  }
 },
 "nbformat": 4,
 "nbformat_minor": 2
}
