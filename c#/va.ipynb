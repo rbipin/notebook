{
 "cells": [
  {
   "cell_type": "code",
   "execution_count": 1,
   "metadata": {
    "dotnet_interactive": {
     "language": "csharp"
    },
    "polyglot_notebook": {
     "kernelName": "csharp"
    }
   },
   "outputs": [
    {
     "name": "stdout",
     "output_type": "stream",
     "text": [
      "test\n",
      "{\"FirstName\":\"John\",\"MilitaryServiceInformation\":[{\"IsPurpleHeartRecipient\":true,\"IsSurvivingSpouseOfVeteran\":true}]}\n",
      "{\"FirstName\":\"John\",\"MilitaryServiceInformation\":[{\"IsPurpleHeartRecipient\":true,\"IsSurvivingSpouseOfVeteran\":true}]}\n"
     ]
    }
   ],
   "source": [
    "using System.Collections;\n",
    "using System.Collections.Generic;\n",
    "using System.Linq;\n",
    "using Newtonsoft.Json;\n",
    "\n",
    "public class MilitaryService\n",
    "    {\n",
    "        public bool? IsPurpleHeartRecipient { get; set; }\n",
    "        public bool? IsSurvivingSpouseOfVeteran { get; set; }\n",
    "    }\n",
    "\n",
    "public class MilitaryServiceInformation : IEnumerable<MilitaryService>\n",
    "  {\n",
    "        [JsonProperty(\"MilitaryService\")]\n",
    "        private List<MilitaryService> _militaryServiceList = new List<MilitaryService>();\n",
    "\n",
    "        public MilitaryServiceInformation(IEnumerable<MilitaryService> milStatus)\n",
    "        {\n",
    "          _militaryServiceList = milStatus?.ToList();\n",
    "        }\n",
    "\n",
    "        public string MilitaryServiceStatus { get; set; }\n",
    "\n",
    "        public IEnumerator<MilitaryService> GetEnumerator() =>\n",
    "            _militaryServiceList.GetEnumerator();\n",
    "\n",
    "        IEnumerator IEnumerable.GetEnumerator() =>\n",
    "            GetEnumerator();\n",
    "\n",
    "         public static implicit operator MilitaryServiceInformation(List<MilitaryService> militaryServiceInformation)\n",
    "            => new MilitaryServiceInformation(militaryServiceInformation);\n",
    "\n",
    "        public static implicit operator MilitaryServiceInformation(MilitaryService[] militaryServiceInformation)\n",
    "            => new MilitaryServiceInformation(militaryServiceInformation);\n",
    "  }\n",
    "\n",
    "  public class Client \n",
    "  {\n",
    "    public string FirstName {get; set;}\n",
    "    public MilitaryServiceInformation MilitaryServiceInformation { get; set; }\n",
    "  }\n",
    "  public class NewClient \n",
    "  {\n",
    "    public string FirstName {get; set;}\n",
    "    public IEnumerable<MilitaryService> MilitaryServiceInformation { get; set; }\n",
    "  }\n",
    "  MilitaryServiceInformation milStatus = new List<MilitaryService>()\n",
    "    {\n",
    "      new MilitaryService()\n",
    "      {\n",
    "        IsPurpleHeartRecipient = true,\n",
    "        IsSurvivingSpouseOfVeteran = true,\n",
    "      }\n",
    "    };\n",
    "  milStatus.MilitaryServiceStatus = \"test\";\n",
    "  Console.WriteLine(milStatus.MilitaryServiceStatus);\n",
    "  var contentObject = new Client()\n",
    "  {\n",
    "    FirstName = \"John\",\n",
    "    MilitaryServiceInformation = milStatus\n",
    "  };\n",
    "\n",
    "  var strContent = JsonConvert.SerializeObject(contentObject);\n",
    "  Console.WriteLine(strContent);\n",
    "  var obj = JsonConvert.DeserializeObject<Client>(strContent);\n",
    "  Console.WriteLine(JsonConvert.SerializeObject(obj));"
   ]
  }
 ],
 "metadata": {
  "kernelspec": {
   "display_name": ".NET (C#)",
   "language": "C#",
   "name": ".net-csharp"
  },
  "polyglot_notebook": {
   "kernelInfo": {
    "defaultKernelName": "csharp",
    "items": [
     {
      "aliases": [],
      "name": "csharp"
     },
     {
      "aliases": [
       "frontend"
      ],
      "name": "vscode"
     },
     {
      "aliases": [
       "js"
      ],
      "languageName": "JavaScript",
      "name": "javascript"
     },
     {
      "aliases": [],
      "name": "webview"
     }
    ]
   }
  }
 },
 "nbformat": 4,
 "nbformat_minor": 2
}
