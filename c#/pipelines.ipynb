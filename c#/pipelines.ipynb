{
 "cells": [
  {
   "cell_type": "code",
   "execution_count": null,
   "metadata": {
    "dotnet_interactive": {
     "language": "csharp"
    }
   },
   "outputs": [],
   "source": []
  },
  {
   "cell_type": "code",
   "execution_count": null,
   "metadata": {
    "dotnet_interactive": {
     "language": "csharp"
    }
   },
   "outputs": [],
   "source": [
    "public abstract class Pipeline<Tin>\n",
    "{\n",
    "  public readonly List<IPipelineTask> pipelineTasks;\n",
    "\n",
    "  public Pipeline()\n",
    "  {\n",
    "    pipelineTasks = new List<IPipelineTask>();\n",
    "  }\n",
    "\n",
    "  public Pipeline<Tin> SetNext(IPipelineTask pipelineTask)\n",
    "  {\n",
    "    pipelineTasks.Add(pipelineTask);\n",
    "    return this;\n",
    "  }\n",
    "\n",
    "  public Task ExecuteAsync(Tin input)\n",
    "  {\n",
    "    pipelineTasks.ForEach(eachPipelineTask => {\n",
    "      var result = eachPipelineTask.ProcessAsync<Tin, string>(input);\n",
    "    });\n",
    "  }\n",
    "}\n",
    "\n",
    "public interface IPipelineTask \n",
    "{\n",
    "  Task<Touput> ProcessAsync<Tinput, Touput>(Tinput input);\n",
    "}"
   ]
  }
 ],
 "metadata": {
  "kernelspec": {
   "display_name": ".NET (C#)",
   "language": "C#",
   "name": ".net-csharp"
  },
  "polyglot_notebook": {
   "kernelInfo": {
    "defaultKernelName": "csharp",
    "items": [
     {
      "aliases": [],
      "name": "csharp"
     },
     {
      "aliases": [
       "js"
      ],
      "languageName": "JavaScript",
      "name": "javascript"
     },
     {
      "aliases": [],
      "name": "webview"
     },
     {
      "aliases": [],
      "languageName": "KQL",
      "name": "kql"
     },
     {
      "aliases": [
       "frontend"
      ],
      "languageName": null,
      "name": "vscode"
     }
    ]
   }
  }
 },
 "nbformat": 4,
 "nbformat_minor": 2
}
