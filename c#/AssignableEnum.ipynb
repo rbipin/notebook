{
 "cells": [
  {
   "cell_type": "code",
   "execution_count": null,
   "metadata": {
    "dotnet_interactive": {
     "language": "csharp"
    },
    "polyglot_notebook": {
     "kernelName": "csharp"
    }
   },
   "outputs": [],
   "source": [
    "Console.WriteLine(string.IsNullOrWhiteSpace(\" \"));\n",
    "Console.WriteLine(string.IsNullOrWhiteSpace(string.Empty));"
   ]
  },
  {
   "cell_type": "code",
   "execution_count": null,
   "metadata": {
    "dotnet_interactive": {
     "language": "csharp"
    },
    "polyglot_notebook": {
     "kernelName": "csharp"
    }
   },
   "outputs": [],
   "source": [
    "DateTime? dob = Convert.ToDateTime(\"1977-07-17T04:00:00Z\");\n",
    "\n",
    "Console.WriteLine(dob?.ToString(\"yyy-MM-dd\"))"
   ]
  },
  {
   "cell_type": "code",
   "execution_count": null,
   "metadata": {
    "dotnet_interactive": {
     "language": "csharp"
    }
   },
   "outputs": [],
   "source": [
    "class Person\n",
    "{\n",
    "  public int? FirstName {get; set; }\n",
    "  public int? LastName {get; set; }\n",
    "}\n",
    "\n",
    "var p = new Person();\n",
    "var p1 = new Person();\n",
    "if (p is not { FirstName: p1.FirstName, LastName: {} })\n",
    "{\n",
    "  Console.WriteLine(\"Is Null\");\n",
    "}\n",
    "else\n",
    "{\n",
    "   Console.WriteLine(\"Not Null\");\n",
    "}"
   ]
  },
  {
   "cell_type": "code",
   "execution_count": null,
   "metadata": {
    "dotnet_interactive": {
     "language": "csharp"
    }
   },
   "outputs": [],
   "source": [
    "using System;\n",
    "using System.Collections.Generic;\n",
    "using System.Linq;\n",
    "using System.Reflection;\n",
    "\n",
    "// Working solution, how to handle switch cases\n",
    "    public abstract class Enumeration<TEnum> where TEnum: class\n",
    "    {\n",
    "        private string Value { get; set; }\n",
    "\n",
    "        protected Enumeration(string enumValue) => Value = enumValue;\n",
    "\n",
    "        /// <summary>\n",
    "        /// Convert to String\n",
    "        /// </summary>\n",
    "        /// <returns>Value of the enum</returns>\n",
    "        public override string ToString() => Value;\n",
    "        \n",
    "        /// <summary>\n",
    "        /// \n",
    "        /// </summary>\n",
    "        /// <param name=\"obj\"></param>\n",
    "        /// <typeparam name=\"T\"></typeparam>\n",
    "        /// <returns></returns>\n",
    "        public bool Equals<T>(object obj)\n",
    "        {\n",
    "            if (!(obj is Enumeration<TEnum> otherValue))\n",
    "            {\n",
    "                return false;\n",
    "            }\n",
    "\n",
    "            var typeMatches = GetType() == obj.GetType();\n",
    "            var valueMatches = Value == otherValue.Value;\n",
    "\n",
    "            return typeMatches && valueMatches;\n",
    "        }\n",
    "        \n",
    "        \n",
    "        /// <summary>\n",
    "        /// \n",
    "        /// </summary>\n",
    "        /// <param name=\"name\">Name of the enum</param>\n",
    "        /// <param name=\"enumValue\"></param>\n",
    "        /// <returns></returns>\n",
    "        protected static bool TryGetEnum(string name, out TEnum? enumValue)\n",
    "        {\n",
    "            if (string.IsNullOrEmpty(name))\n",
    "            {\n",
    "                enumValue = null;\n",
    "                return false;\n",
    "            }\n",
    "            name = name.ToUpper();\n",
    "            var enums = GetAll<TEnum>().ToList();\n",
    "            var enumDictionary = enums.ToDictionary(e => e.ToString());\n",
    "            if (enumDictionary.ContainsKey(name))\n",
    "            {\n",
    "                enumValue = enumDictionary[name] as TEnum;\n",
    "                return true;\n",
    "            }\n",
    "            enumValue = null;\n",
    "            return false;\n",
    "        }\n",
    "        \n",
    "\n",
    "        /// <summary>\n",
    "        /// Get all the available types defined\n",
    "        /// </summary>\n",
    "        /// <typeparam name=\"T\">Type of Enum class</typeparam>\n",
    "        /// <returns></returns>\n",
    "        private static IEnumerable<T> GetAll<T>() where T : TEnum =>\n",
    "            typeof(T).GetFields(BindingFlags.Public |\n",
    "                                BindingFlags.Static |\n",
    "                                BindingFlags.DeclaredOnly)\n",
    "                .Select(f => f.GetValue(null))\n",
    "                .Cast<T>();\n",
    "        \n",
    "    }\n",
    "}\n",
    "\n",
    " public sealed class EventName: Enumeration<EventName>\n",
    "    {\n",
    "       \n",
    "        public static readonly EventName Insert = new EventName(\"INSERT\");\n",
    "        public static readonly EventName Modify = new EventName(\"MODIFY\");\n",
    "        public static readonly EventName Remove = new EventName(\"REMOVE\");\n",
    "\n",
    "        private EventName(string eventName): base(eventName)\n",
    "        {\n",
    "           \n",
    "        }\n",
    "        \n",
    "        public static implicit operator string?(EventName? enumValue)\n",
    "        {\n",
    "            return enumValue?.ToString();\n",
    "        }\n",
    "        \n",
    "        public static implicit operator EventName?(string name)\n",
    "        {\n",
    "            return TryGetEnum(name, out var enumValue) ? enumValue : null;\n",
    "        }\n",
    "    }"
   ]
  },
  {
   "cell_type": "code",
   "execution_count": null,
   "metadata": {
    "dotnet_interactive": {
     "language": "csharp"
    }
   },
   "outputs": [],
   "source": [
    "using System.Text.Json;\n",
    "using System.Text.Json.Serialization;\n",
    "\n",
    "public class MaritalStatusTypeConverter: JsonConverter<MaritalStatusType>\n",
    "{\n",
    "    public override MaritalStatusType Read(ref Utf8JsonReader reader,\n",
    "            Type typeToConvert,\n",
    "            JsonSerializerOptions options) {\n",
    "                var strValue = reader.GetString();\n",
    "                MaritalStatusType status =strValue;\n",
    "                return status;\n",
    "            }\n",
    "\n",
    "    public override void Write(Utf8JsonWriter writer,\n",
    "            MaritalStatusType maritalStatus,\n",
    "            JsonSerializerOptions options) =>\n",
    "                writer.WriteStringValue($\"{maritalStatus.ToString()}\");\n",
    "}\n",
    "\n",
    "\n",
    "\n",
    "[JsonConverter(typeof(MaritalStatusTypeConverter))]\n",
    "public sealed class MaritalStatusType\n",
    "{\n",
    "    readonly string maritalStatus;\n",
    "   \n",
    "    public static readonly MaritalStatusType Single = new MaritalStatusType(\"Single\");\n",
    "    public static readonly MaritalStatusType Married = new MaritalStatusType(\"Married\");\n",
    "    public static readonly MaritalStatusType Widowed = new MaritalStatusType(\"Widowed\");\n",
    "\n",
    "    static Dictionary<string, MaritalStatusType> allowedValues = new Dictionary<string, MaritalStatusType>()\n",
    "    {\n",
    "        {Single.maritalStatus.ToUpper(), Single},\n",
    "        {Married.maritalStatus.ToUpper(), Married},\n",
    "        {Widowed.maritalStatus.ToUpper(), Widowed}\n",
    "    };\n",
    "    private MaritalStatusType(string value)\n",
    "    {\n",
    "        maritalStatus = value;\n",
    "    }\n",
    "\n",
    "    public static bool Has(string value)\n",
    "    {\n",
    "        if (allowedValues == null || allowedValues.Count == 0)\n",
    "        {\n",
    "            throw new Exception(\"Allowed Values is null or empty\");\n",
    "        }\n",
    "    \n",
    "       if (allowedValues.ContainsKey(value.ToUpper()))\n",
    "        {\n",
    "            return true;\n",
    "        }\n",
    "        return false;\n",
    "    }\n",
    "\n",
    "    public override string ToString()\n",
    "    {\n",
    "        return maritalStatus;\n",
    "    }\n",
    "\n",
    "    public static implicit operator string(MaritalStatusType value){\n",
    "        return value.maritalStatus;\n",
    "    }\n",
    "\n",
    "    public static implicit operator MaritalStatusType(string value){\n",
    "        if (!Has(value))\n",
    "        {\n",
    "            throw new Exception($\"{value} is not assignable to MaritalStatusType\");\n",
    "        }\n",
    "        return allowedValues[value.ToUpper()];\n",
    "    }\n",
    "}\n",
    "\n",
    "\n",
    "/*----------------------------------------------------------------\n",
    "    Using the type is done here\n",
    "------------------------------------------------------------------*/\n",
    "\n",
    "// What capabilities does this provide\n",
    "// 1. Self Healing\n",
    "Console.WriteLine(\"1. Self Healing\");\n",
    "\n",
    "MaritalStatusType SingleLowerCase = \"single\";\n",
    "MaritalStatusType SingleUpperCase = \"SINGLE\";\n",
    "MaritalStatusType Single = MaritalStatusType.Single;\n",
    "\n",
    "Console.Write(\"\\tAll lower case letter string assigned, \");\n",
    "Console.WriteLine(SingleLowerCase);\n",
    "Console.Write(\"\\tAll Upper case letter string assigned, \");\n",
    "Console.WriteLine(SingleUpperCase);\n",
    "Console.Write(\"\\tEnum style value assigned, \");\n",
    "Console.WriteLine(Single);\n",
    "\n",
    "//2. Equality Comparison\n",
    "Console.WriteLine(\"\\n2. Equality Comparison\");\n",
    "var counter = 0;\n",
    "MaritalStatusType maritalStatus = MaritalStatusType.Single;\n",
    "do{\n",
    "    if (maritalStatus == MaritalStatusType.Single)\n",
    "    {\n",
    "        Console.WriteLine(\"\\t:( I'm Single\");\n",
    "    } else \n",
    "    {\n",
    "        Console.WriteLine(\"\\t:) I'm Married\");\n",
    "    }\n",
    "    maritalStatus = MaritalStatusType.Married;\n",
    "\n",
    "}while(counter++ < 1);\n",
    "\n",
    "//3. Safety\n",
    "Console.WriteLine(\"\\n3. Safety\");\n",
    "try\n",
    "{\n",
    "    MaritalStatusType status = \"Something else\";\n",
    "}\n",
    "catch(Exception ex)\n",
    "{\n",
    "    Console.WriteLine($\"\\tException: {ex.Message}\");\n",
    "}\n",
    "\n",
    "//4. Additional Checking\n",
    "Console.WriteLine(\"\\n4. Checking\");\n",
    "if (!MaritalStatusType.Has(\"Separated\")){\n",
    "    Console.WriteLine(\"\\tNope Separated is not in this type\");\n",
    "}\n",
    "\n",
    "if (MaritalStatusType.Has(\"Married\")){\n",
    "    Console.WriteLine(\"\\tYes Married is in the type\");\n",
    "}\n",
    "\n",
    "//5. Serialization\n",
    "Console.WriteLine(\"\\n5. Serialization\");\n",
    "Console.WriteLine($\"\\t{JsonSerializer.Serialize(SingleLowerCase)}\");\n",
    "\n",
    "class Person{\n",
    "    public string Name{get; init;}\n",
    "    public MaritalStatusType MaritalStatus {get; init;}\n",
    "}\n",
    "var p = new Person() { Name=\"Bipin\", MaritalStatus =\"single\" };\n",
    "Console.WriteLine($\"\\t{JsonSerializer.Serialize(p)}\");\n",
    "\n",
    "//6. Deserialization\n",
    "Console.WriteLine(\"\\n6. Deserialization\");\n",
    "var jsonString = \"{\\\"Name\\\":\\\"Bipin\\\",\\\"MaritalStatus\\\":\\\"Single\\\"}\";\n",
    "p = JsonSerializer.Deserialize<Person>(jsonString);\n",
    "Console.WriteLine($\"\\t{p.MaritalStatus}\");\n"
   ]
  }
 ],
 "metadata": {
  "kernelspec": {
   "display_name": ".NET (C#)",
   "language": "C#",
   "name": ".net-csharp"
  },
  "polyglot_notebook": {
   "kernelInfo": {
    "defaultKernelName": "csharp",
    "items": [
     {
      "aliases": [
       "c#",
       "C#"
      ],
      "languageName": "C#",
      "name": "csharp"
     },
     {
      "aliases": [
       "frontend"
      ],
      "name": "vscode"
     },
     {
      "aliases": [],
      "name": ".NET"
     },
     {
      "aliases": [
       "f#",
       "F#"
      ],
      "languageName": "F#",
      "name": "fsharp"
     },
     {
      "aliases": [],
      "languageName": "HTML",
      "name": "html"
     },
     {
      "aliases": [
       "js"
      ],
      "languageName": "JavaScript",
      "name": "javascript"
     },
     {
      "aliases": [],
      "languageName": "KQL",
      "name": "kql"
     },
     {
      "aliases": [],
      "languageName": "Mermaid",
      "name": "mermaid"
     },
     {
      "aliases": [
       "powershell"
      ],
      "languageName": "PowerShell",
      "name": "pwsh"
     },
     {
      "aliases": [],
      "languageName": "SQL",
      "name": "sql"
     },
     {
      "aliases": [],
      "name": "value"
     },
     {
      "aliases": [],
      "name": "webview"
     }
    ]
   }
  }
 },
 "nbformat": 4,
 "nbformat_minor": 2
}
