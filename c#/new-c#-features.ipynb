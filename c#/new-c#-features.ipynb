{
 "cells": [
  {
   "cell_type": "code",
   "execution_count": null,
   "metadata": {
    "dotnet_interactive": {
     "language": "csharp"
    }
   },
   "outputs": [],
   "source": [
    "IEnumerable<int> intList = new List<int>() {1, 2, 3};\n",
    "\n",
    "void Check(object input)\n",
    "{\n",
    "  if (input is IEnumerable<int> list)\n",
    "  {\n",
    "    Console.WriteLine($\"Yes, {list.Count()}\");\n",
    "    return;\n",
    "  }\n",
    "  Console.WriteLine(\"No\");\n",
    "}\n",
    "\n",
    "Check(intList);\n",
    "Check(null);"
   ]
  },
  {
   "cell_type": "code",
   "execution_count": null,
   "metadata": {
    "dotnet_interactive": {
     "language": "csharp"
    }
   },
   "outputs": [],
   "source": [
    "// C# interactive\n",
    "// is, null checks\n",
    "// init\n",
    "\n",
    "\n",
    "/*\n",
    "  Pattern Matching from C# 7.3 .net 3.1/ Standard 2.1\n",
    "  null checks\n",
    "*/\n",
    "class Person{\n",
    "  public string FirstName {get; set;}\n",
    "  public string LastName {get; set; }\n",
    "  public int Age{ get; set; }\n",
    "}\n",
    "\n",
    "private void CheckPerson(Person p) {\n",
    "\n",
    "  if (p is { Age: > 18 or < 100})     // 1.\n",
    "    {\n",
    "      Console.WriteLine(\"Age is incorrect\");\n",
    "    }\n",
    "\n",
    "    if (p is { FirstName: \"Andy\", LastName: \"America\"}) // 2.\n",
    "    {\n",
    "      Console.WriteLine(\"Hey! this is Andy America \");\n",
    "    }\n",
    "}\n",
    "\n",
    "Person p= new Person();\n",
    "p.FirstName =\"Andy\";\n",
    "p.LastName = \"America\";\n",
    "p.Age = 18;\n",
    "\n",
    "Person p2= new Person();\n",
    "p2.FirstName =\"Freya\";\n",
    "p2.LastName = \"Odin\";\n",
    "p2.Age = 30;\n",
    "\n",
    "Person p3= new Person();\n",
    "p3.FirstName =\"Andy\";\n",
    "p3.LastName = \"America\";\n",
    "p3.Age = 100;\n",
    "\n",
    "CheckPerson(p);\n",
    "CheckPerson(p2);\n",
    "CheckPerson(p3);\n",
    "\n"
   ]
  },
  {
   "cell_type": "code",
   "execution_count": null,
   "metadata": {
    "dotnet_interactive": {
     "language": "csharp"
    }
   },
   "outputs": [],
   "source": [
    "/*\n",
    "  Pattern Matching from C# 7.3 .net 3.1/ Standard 2.1\n",
    "  Check types\n",
    "*/\n",
    "\n",
    "class Shape{\n",
    "  public int Length{ get; set; }\n",
    "  public int Width{ get; set; }\n",
    "}\n",
    "\n",
    "class Square: Shape{ \n",
    "\n",
    "}\n",
    "\n",
    "class Rectangle: Shape {\n",
    "\n",
    "}\n",
    "\n",
    "private void CheckShape(Shape shape) {\n",
    "  if (shape is {Length: > 0 and < 100 } or {Width: > 0})  // 1. Relational Checks C#9 .net 5\n",
    "  {\n",
    "    Console.WriteLine(\"The values are correct!\");\n",
    "  }\n",
    "  else\n",
    "  {\n",
    "    Console.WriteLine(\"Incorrect values\");\n",
    "    return;\n",
    "  }\n",
    "  if (shape is Square){\n",
    "    Console.WriteLine(\"This is a square\");\n",
    "  }\n",
    "\n",
    "  if (shape is Rectangle){\n",
    "    Console.WriteLine(\"This is a rectagle\");\n",
    "  }\n",
    "\n",
    "  if (shape is Rectangle rt){\n",
    "    Console.WriteLine(rt.Length);\n",
    "  }\n",
    "\n",
    "\n",
    "}\n",
    "\n",
    "Square sq = new Square();\n",
    "sq.Length = 5;\n",
    "\n",
    "Rectangle rt = new Rectangle();\n",
    "rt.Length = 10;\n",
    "rt.Width = 5;\n",
    "\n",
    "Shape s = null;\n",
    "\n",
    "Console.WriteLine(\"Null value\");\n",
    "CheckShape(s);\n",
    "Console.WriteLine(\"----------\");\n",
    "Console.WriteLine(\"Shape Square\");\n",
    "CheckShape(sq);\n",
    "Console.WriteLine(\"----------\");\n",
    "Console.WriteLine(\"Shape Rectangle\");\n",
    "CheckShape(rt);\n",
    "Console.WriteLine(\"----------\");"
   ]
  },
  {
   "cell_type": "code",
   "execution_count": null,
   "metadata": {
    "dotnet_interactive": {
     "language": "csharp"
    }
   },
   "outputs": [],
   "source": [
    "/*\n",
    "  Init setters\n",
    "*/\n",
    "\n",
    "class OldPerson{\n",
    "  public string FirstName {get; }\n",
    "\n",
    "  public OldPerson(string firstName){\n",
    "    FirstName = firstName;\n",
    "  }\n",
    "  public override string ToString()\n",
    "  {\n",
    "    return FirstName;\n",
    "  }\n",
    "}\n",
    "OldPerson oldp = new OldPerson(\"Bipin\");\n",
    "Console.WriteLine(oldp.ToString());\n",
    "\n",
    "class NewPerson1 {\n",
    "  private string _firstName;\n",
    "  public string FirstName \n",
    "  {\n",
    "    get => _firstName;\n",
    "    init => _firstName = value;\n",
    "  }\n",
    "  public override string ToString()\n",
    "  {\n",
    "    return FirstName;\n",
    "  }\n",
    "}\n",
    "\n",
    "NewPerson1 newperson1 = new NewPerson1(){ FirstName=\"New Person 1\" };\n",
    "Console.WriteLine(newperson1.ToString());\n",
    "\n",
    "class NewPerson2 {\n",
    "\n",
    "  public string FirstName {get; init;}\n",
    "  public override string ToString()\n",
    "  {\n",
    "    return FirstName;\n",
    "  }\n",
    "}\n",
    "\n",
    "NewPerson2 newp2 = new NewPerson2() { FirstName=\"NewPerson 2\" };\n",
    "Console.WriteLine(newp2.ToString());\n",
    "\n",
    "\n"
   ]
  }
 ],
 "metadata": {
  "kernelspec": {
   "display_name": ".NET (C#)",
   "language": "C#",
   "name": ".net-csharp"
  },
  "polyglot_notebook": {
   "kernelInfo": {
    "defaultKernelName": "csharp",
    "items": [
     {
      "aliases": [
       "c#",
       "C#"
      ],
      "languageName": "C#",
      "name": "csharp"
     },
     {
      "aliases": [],
      "name": ".NET"
     },
     {
      "aliases": [
       "f#",
       "F#"
      ],
      "languageName": "F#",
      "name": "fsharp"
     },
     {
      "aliases": [],
      "languageName": "HTML",
      "name": "html"
     },
     {
      "aliases": [],
      "languageName": "KQL",
      "name": "kql"
     },
     {
      "aliases": [],
      "languageName": "Mermaid",
      "name": "mermaid"
     },
     {
      "aliases": [
       "powershell"
      ],
      "languageName": "PowerShell",
      "name": "pwsh"
     },
     {
      "aliases": [],
      "languageName": "SQL",
      "name": "sql"
     },
     {
      "aliases": [],
      "name": "value"
     },
     {
      "aliases": [
       "frontend"
      ],
      "name": "vscode"
     },
     {
      "aliases": [
       "js"
      ],
      "languageName": "JavaScript",
      "name": "javascript"
     },
     {
      "aliases": [],
      "name": "webview"
     }
    ]
   }
  }
 },
 "nbformat": 4,
 "nbformat_minor": 2
}
